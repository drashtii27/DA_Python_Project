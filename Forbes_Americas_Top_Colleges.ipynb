{
  "cells": [
    {
      "cell_type": "markdown",
      "metadata": {
        "id": "view-in-github",
        "colab_type": "text"
      },
      "source": [
        "<a href=\"https://colab.research.google.com/github/drashtii27/DA_Python_Project/blob/main/Forbes_Americas_Top_Colleges.ipynb\" target=\"_parent\"><img src=\"https://colab.research.google.com/assets/colab-badge.svg\" alt=\"Open In Colab\"/></a>"
      ]
    },
    {
      "cell_type": "markdown",
      "metadata": {
        "id": "-q_wgrtstgmU"
      },
      "source": [
        "## Context\n",
        "\n",
        "Starting in 2008, every year Forbes Magazine publishes a list of America's best colleges. When it comes to the question everyone seems to be asking, “Is college worth it? this published list of colleges comes handy to take a decision based on student's requirement or desire.\n",
        "\n",
        "The mission of the college ranking by Forbes Magazine is to conduct an annual review of the undergraduate institutions that deliver the top academics, best experiences, career success and lowest debt. Whether a school is in the Top 10 or near the bottom of the list, the 650 colleges are the best in the country.\n",
        "\n",
        "For most families, choosing a four-year college is one of the biggest and most expensive decisions they can make. For students, this time of their life may layout their future plans. So choose carefully."
      ]
    },
    {
      "cell_type": "markdown",
      "metadata": {
        "id": "OSZd99VDtgmU"
      },
      "source": [
        "## About Data\n",
        "\n",
        "The data set contains the rankings of 650 Unites States colleges along with various other statistics pertaining to each school."
      ]
    },
    {
      "cell_type": "markdown",
      "metadata": {
        "id": "IgWMeWIx0_1C"
      },
      "source": [
        "<img src =\"https://i.ibb.co/sKwQjfw/Stanford.jpg\" width=80% height =40%></img>\n"
      ]
    },
    {
      "cell_type": "markdown",
      "metadata": {
        "id": "Vc1l7FhUtgmU"
      },
      "source": [
        "### Load required packages"
      ]
    },
    {
      "cell_type": "code",
      "execution_count": 51,
      "metadata": {
        "id": "hQdKNDMOtgmU"
      },
      "outputs": [],
      "source": [
        "import numpy as np\n",
        "import pandas as pd\n",
        "import matplotlib.pyplot as plt\n"
      ]
    },
    {
      "cell_type": "markdown",
      "metadata": {
        "id": "qT0Hjo-AtgmV"
      },
      "source": [
        "### Load the data into pandas dataframe and view the details"
      ]
    },
    {
      "cell_type": "code",
      "execution_count": 2,
      "metadata": {
        "id": "jAhaE2VVtgmV"
      },
      "outputs": [],
      "source": [
        "df_college = pd.read_csv('ForbesAmericasTopColleges2019.csv')"
      ]
    },
    {
      "cell_type": "markdown",
      "metadata": {
        "id": "sSy16YsFtgmV"
      },
      "source": [
        "### Dimension of the data"
      ]
    },
    {
      "cell_type": "code",
      "execution_count": 3,
      "metadata": {
        "colab": {
          "base_uri": "https://localhost:8080/"
        },
        "id": "5HWTSIy5tgmV",
        "outputId": "6f367824-d922-4d2a-ec36-ac708faa0737"
      },
      "outputs": [
        {
          "output_type": "execute_result",
          "data": {
            "text/plain": [
              "(650, 17)"
            ]
          },
          "metadata": {},
          "execution_count": 3
        }
      ],
      "source": [
        "df_college.shape\n",
        "#to know number of rows and columns"
      ]
    },
    {
      "cell_type": "code",
      "execution_count": 4,
      "metadata": {
        "colab": {
          "base_uri": "https://localhost:8080/"
        },
        "id": "feNnsPJ6tgmW",
        "outputId": "fde24506-a4f5-44d8-f0e7-af7c0b2b5b4c"
      },
      "outputs": [
        {
          "output_type": "stream",
          "name": "stdout",
          "text": [
            "The number of rows are:  650 \n",
            "The number of columns are:  17\n"
          ]
        }
      ],
      "source": [
        "print(\"The number of rows are: \",df_college.shape[0],\"\\nThe number of columns are: \",df_college.shape[1])"
      ]
    },
    {
      "cell_type": "markdown",
      "metadata": {
        "id": "Lv5WnED6tgmW"
      },
      "source": [
        "### Datatype of the fields in the data"
      ]
    },
    {
      "cell_type": "code",
      "execution_count": 5,
      "metadata": {
        "colab": {
          "base_uri": "https://localhost:8080/"
        },
        "id": "jV2_y-outgmX",
        "outputId": "d2ec4762-fa95-4b71-b22b-7ed4b7ce5bfc"
      },
      "outputs": [
        {
          "output_type": "stream",
          "name": "stdout",
          "text": [
            "<class 'pandas.core.frame.DataFrame'>\n",
            "RangeIndex: 650 entries, 0 to 649\n",
            "Data columns (total 17 columns):\n",
            " #   Column                    Non-Null Count  Dtype  \n",
            "---  ------                    --------------  -----  \n",
            " 0   Rank                      650 non-null    int64  \n",
            " 1   Name                      650 non-null    object \n",
            " 2   City                      650 non-null    object \n",
            " 3   State                     650 non-null    object \n",
            " 4   Public/Private            650 non-null    object \n",
            " 5   Undergraduate Population  650 non-null    int64  \n",
            " 6   Student Population        650 non-null    int64  \n",
            " 7   Net Price                 648 non-null    float64\n",
            " 8   Average Grant Aid         646 non-null    float64\n",
            " 9   Total Annual Cost         650 non-null    int64  \n",
            " 10  Alumni Salary             635 non-null    float64\n",
            " 11  Acceptance Rate           648 non-null    float64\n",
            " 12  SAT Lower                 551 non-null    float64\n",
            " 13  SAT Upper                 551 non-null    float64\n",
            " 14  ACT Lower                 553 non-null    float64\n",
            " 15  ACT Upper                 553 non-null    float64\n",
            " 16  Website                   645 non-null    object \n",
            "dtypes: float64(8), int64(4), object(5)\n",
            "memory usage: 86.5+ KB\n"
          ]
        }
      ],
      "source": [
        "df_college.info()"
      ]
    },
    {
      "cell_type": "markdown",
      "metadata": {
        "id": "JYr2YCtG6sGn"
      },
      "source": [
        "Observations:\n",
        "\n",
        "We have 5 fields with 'object' datatype, 8 fields of datatype 'float' and 4 fields with 'integer' datatype\n"
      ]
    },
    {
      "cell_type": "markdown",
      "metadata": {
        "id": "AaYuiPE1tgmX"
      },
      "source": [
        "### Check the missing values in the data\n",
        "NA values, gets mapped to True values.Everything else gets mapped to False values.\n",
        "'sum()' method followed by 'isnull()' adds up all the True instances per column to give a summary of missing values per column"
      ]
    },
    {
      "cell_type": "code",
      "execution_count": 6,
      "metadata": {
        "id": "gGjFdfEgtgmX",
        "outputId": "9e2091a2-af76-4ffa-f90a-80e0b06aa0bf",
        "colab": {
          "base_uri": "https://localhost:8080/"
        }
      },
      "outputs": [
        {
          "output_type": "execute_result",
          "data": {
            "text/plain": [
              "Rank                         0\n",
              "Name                         0\n",
              "City                         0\n",
              "State                        0\n",
              "Public/Private               0\n",
              "Undergraduate Population     0\n",
              "Student Population           0\n",
              "Net Price                    2\n",
              "Average Grant Aid            4\n",
              "Total Annual Cost            0\n",
              "Alumni Salary               15\n",
              "Acceptance Rate              2\n",
              "SAT Lower                   99\n",
              "SAT Upper                   99\n",
              "ACT Lower                   97\n",
              "ACT Upper                   97\n",
              "Website                      5\n",
              "dtype: int64"
            ]
          },
          "metadata": {},
          "execution_count": 6
        }
      ],
      "source": [
        "df_college.isnull().sum()"
      ]
    },
    {
      "cell_type": "markdown",
      "metadata": {
        "id": "3Ce0LbyRtgmX"
      },
      "source": [
        "Observations:\n",
        "\n",
        "We observe many missing values in SAT and ACT score fields. \n",
        "\n",
        "Let's drop 'SAT' and 'ACT' score columns for our analysis.\n",
        "\n",
        "Also, there are missing values observed in 'Net Price', 'Average Grant Aid', 'Alumni Salary' and 'Acceptance Rate'. \n",
        "\n",
        "Let's drop the records/rows with missing values before proceeding with the analysis\n",
        "\n",
        "'Website' is unique identifier of each college and is not required for further analysis. So, we can drop this column as well.\n",
        "\n"
      ]
    },
    {
      "cell_type": "markdown",
      "metadata": {
        "id": "FfyQfVwhtgmX"
      },
      "source": [
        "### Data Cleanup"
      ]
    },
    {
      "cell_type": "markdown",
      "metadata": {
        "id": "xTvtcQShtgmX"
      },
      "source": [
        "Let's first drop all columns that are not need. \n",
        "\n",
        "'drop()' method with 'axis=1' indicates that columns have to be dropped. List of column names to be dropped is passed to the method. 'inplace = True' ensures that the columns are dropped from the DataFrame permanently"
      ]
    },
    {
      "cell_type": "code",
      "execution_count": 7,
      "metadata": {
        "id": "_wPeCQ8xtgmX"
      },
      "outputs": [],
      "source": [
        "df_college.drop(['Website', 'SAT Lower','SAT Upper','ACT Lower','ACT Upper'], axis=1, inplace=True)"
      ]
    },
    {
      "cell_type": "markdown",
      "metadata": {
        "id": "3vb8ZhMAtgmX"
      },
      "source": [
        "'dropna()' method drops all rows with NA values (by default axis = 0)"
      ]
    },
    {
      "cell_type": "code",
      "execution_count": 8,
      "metadata": {
        "id": "9DfcH1YktgmX"
      },
      "outputs": [],
      "source": [
        "df_college.dropna(inplace=True)"
      ]
    },
    {
      "cell_type": "code",
      "execution_count": 9,
      "metadata": {
        "colab": {
          "base_uri": "https://localhost:8080/"
        },
        "id": "amMAF6ahtgmY",
        "outputId": "d3d4194d-8489-44d4-fe8a-64e00cf55d91"
      },
      "outputs": [
        {
          "output_type": "execute_result",
          "data": {
            "text/plain": [
              "(628, 12)"
            ]
          },
          "metadata": {},
          "execution_count": 9
        }
      ],
      "source": [
        "df_college.shape"
      ]
    },
    {
      "cell_type": "markdown",
      "metadata": {
        "id": "B_3F6b4ptgmY"
      },
      "source": [
        "Note:\n",
        "\n",
        "After dropping the rows which had missing values we are left with 628 rows before dropping it was 650,17.\n",
        "\n",
        "Also as we have dropped rows with missing values the index is no more continuous and has to be reset"
      ]
    },
    {
      "cell_type": "markdown",
      "metadata": {
        "id": "dRhJfREXtgmY"
      },
      "source": [
        "### Reset the index of the dataframe\n",
        "\n",
        "'reset_index()' resets the index of the DataFrame\n",
        "\n",
        "'drop' as True, will not try to insert index into DataFrame columns\n",
        "\n",
        "'inplace' as True resets the index permanently"
      ]
    },
    {
      "cell_type": "code",
      "execution_count": 10,
      "metadata": {
        "id": "fpBPXoWutgmY"
      },
      "outputs": [],
      "source": [
        "df_college.reset_index(drop=True, inplace=True)"
      ]
    },
    {
      "cell_type": "markdown",
      "metadata": {
        "id": "8S9FjBQetgmY"
      },
      "source": [
        "### Check the first 5 rows of the dataset\n"
      ]
    },
    {
      "cell_type": "code",
      "execution_count": 11,
      "metadata": {
        "colab": {
          "base_uri": "https://localhost:8080/",
          "height": 302
        },
        "id": "wW-ONC4ktgmY",
        "outputId": "f3df5ff8-e2a2-40c5-91d1-e569f1d5cefa"
      },
      "outputs": [
        {
          "output_type": "execute_result",
          "data": {
            "text/plain": [
              "   Rank                                   Name       City State  \\\n",
              "0     1                     Harvard University  Cambridge    MA   \n",
              "1     2                    Stanford University   Stanford    CA   \n",
              "2     3                        Yale University  New Haven    CT   \n",
              "3     4  Massachusetts Institute of Technology  Cambridge    MA   \n",
              "4     5                   Princeton University  Princeton    NJ   \n",
              "\n",
              "  Public/Private  Undergraduate Population  Student Population  Net Price  \\\n",
              "0        Private                     13844               31120    14327.0   \n",
              "1        Private                      8402               17534    13261.0   \n",
              "2        Private                      6483               12974    18627.0   \n",
              "3        Private                      4680               11466    20771.0   \n",
              "4        Private                      5659                8273     9327.0   \n",
              "\n",
              "   Average Grant Aid  Total Annual Cost  Alumni Salary  Acceptance Rate  \n",
              "0            49870.0              69600       146800.0              5.0  \n",
              "1            50134.0              69109       145200.0              5.0  \n",
              "2            50897.0              71290       138300.0              7.0  \n",
              "3            43248.0              67430       155200.0              7.0  \n",
              "4            48088.0              66150       139400.0              6.0  "
            ],
            "text/html": [
              "\n",
              "  <div id=\"df-9c99a481-8e2a-4774-8d62-9d02da348edc\">\n",
              "    <div class=\"colab-df-container\">\n",
              "      <div>\n",
              "<style scoped>\n",
              "    .dataframe tbody tr th:only-of-type {\n",
              "        vertical-align: middle;\n",
              "    }\n",
              "\n",
              "    .dataframe tbody tr th {\n",
              "        vertical-align: top;\n",
              "    }\n",
              "\n",
              "    .dataframe thead th {\n",
              "        text-align: right;\n",
              "    }\n",
              "</style>\n",
              "<table border=\"1\" class=\"dataframe\">\n",
              "  <thead>\n",
              "    <tr style=\"text-align: right;\">\n",
              "      <th></th>\n",
              "      <th>Rank</th>\n",
              "      <th>Name</th>\n",
              "      <th>City</th>\n",
              "      <th>State</th>\n",
              "      <th>Public/Private</th>\n",
              "      <th>Undergraduate Population</th>\n",
              "      <th>Student Population</th>\n",
              "      <th>Net Price</th>\n",
              "      <th>Average Grant Aid</th>\n",
              "      <th>Total Annual Cost</th>\n",
              "      <th>Alumni Salary</th>\n",
              "      <th>Acceptance Rate</th>\n",
              "    </tr>\n",
              "  </thead>\n",
              "  <tbody>\n",
              "    <tr>\n",
              "      <th>0</th>\n",
              "      <td>1</td>\n",
              "      <td>Harvard University</td>\n",
              "      <td>Cambridge</td>\n",
              "      <td>MA</td>\n",
              "      <td>Private</td>\n",
              "      <td>13844</td>\n",
              "      <td>31120</td>\n",
              "      <td>14327.0</td>\n",
              "      <td>49870.0</td>\n",
              "      <td>69600</td>\n",
              "      <td>146800.0</td>\n",
              "      <td>5.0</td>\n",
              "    </tr>\n",
              "    <tr>\n",
              "      <th>1</th>\n",
              "      <td>2</td>\n",
              "      <td>Stanford University</td>\n",
              "      <td>Stanford</td>\n",
              "      <td>CA</td>\n",
              "      <td>Private</td>\n",
              "      <td>8402</td>\n",
              "      <td>17534</td>\n",
              "      <td>13261.0</td>\n",
              "      <td>50134.0</td>\n",
              "      <td>69109</td>\n",
              "      <td>145200.0</td>\n",
              "      <td>5.0</td>\n",
              "    </tr>\n",
              "    <tr>\n",
              "      <th>2</th>\n",
              "      <td>3</td>\n",
              "      <td>Yale University</td>\n",
              "      <td>New Haven</td>\n",
              "      <td>CT</td>\n",
              "      <td>Private</td>\n",
              "      <td>6483</td>\n",
              "      <td>12974</td>\n",
              "      <td>18627.0</td>\n",
              "      <td>50897.0</td>\n",
              "      <td>71290</td>\n",
              "      <td>138300.0</td>\n",
              "      <td>7.0</td>\n",
              "    </tr>\n",
              "    <tr>\n",
              "      <th>3</th>\n",
              "      <td>4</td>\n",
              "      <td>Massachusetts Institute of Technology</td>\n",
              "      <td>Cambridge</td>\n",
              "      <td>MA</td>\n",
              "      <td>Private</td>\n",
              "      <td>4680</td>\n",
              "      <td>11466</td>\n",
              "      <td>20771.0</td>\n",
              "      <td>43248.0</td>\n",
              "      <td>67430</td>\n",
              "      <td>155200.0</td>\n",
              "      <td>7.0</td>\n",
              "    </tr>\n",
              "    <tr>\n",
              "      <th>4</th>\n",
              "      <td>5</td>\n",
              "      <td>Princeton University</td>\n",
              "      <td>Princeton</td>\n",
              "      <td>NJ</td>\n",
              "      <td>Private</td>\n",
              "      <td>5659</td>\n",
              "      <td>8273</td>\n",
              "      <td>9327.0</td>\n",
              "      <td>48088.0</td>\n",
              "      <td>66150</td>\n",
              "      <td>139400.0</td>\n",
              "      <td>6.0</td>\n",
              "    </tr>\n",
              "  </tbody>\n",
              "</table>\n",
              "</div>\n",
              "      <button class=\"colab-df-convert\" onclick=\"convertToInteractive('df-9c99a481-8e2a-4774-8d62-9d02da348edc')\"\n",
              "              title=\"Convert this dataframe to an interactive table.\"\n",
              "              style=\"display:none;\">\n",
              "        \n",
              "  <svg xmlns=\"http://www.w3.org/2000/svg\" height=\"24px\"viewBox=\"0 0 24 24\"\n",
              "       width=\"24px\">\n",
              "    <path d=\"M0 0h24v24H0V0z\" fill=\"none\"/>\n",
              "    <path d=\"M18.56 5.44l.94 2.06.94-2.06 2.06-.94-2.06-.94-.94-2.06-.94 2.06-2.06.94zm-11 1L8.5 8.5l.94-2.06 2.06-.94-2.06-.94L8.5 2.5l-.94 2.06-2.06.94zm10 10l.94 2.06.94-2.06 2.06-.94-2.06-.94-.94-2.06-.94 2.06-2.06.94z\"/><path d=\"M17.41 7.96l-1.37-1.37c-.4-.4-.92-.59-1.43-.59-.52 0-1.04.2-1.43.59L10.3 9.45l-7.72 7.72c-.78.78-.78 2.05 0 2.83L4 21.41c.39.39.9.59 1.41.59.51 0 1.02-.2 1.41-.59l7.78-7.78 2.81-2.81c.8-.78.8-2.07 0-2.86zM5.41 20L4 18.59l7.72-7.72 1.47 1.35L5.41 20z\"/>\n",
              "  </svg>\n",
              "      </button>\n",
              "      \n",
              "  <style>\n",
              "    .colab-df-container {\n",
              "      display:flex;\n",
              "      flex-wrap:wrap;\n",
              "      gap: 12px;\n",
              "    }\n",
              "\n",
              "    .colab-df-convert {\n",
              "      background-color: #E8F0FE;\n",
              "      border: none;\n",
              "      border-radius: 50%;\n",
              "      cursor: pointer;\n",
              "      display: none;\n",
              "      fill: #1967D2;\n",
              "      height: 32px;\n",
              "      padding: 0 0 0 0;\n",
              "      width: 32px;\n",
              "    }\n",
              "\n",
              "    .colab-df-convert:hover {\n",
              "      background-color: #E2EBFA;\n",
              "      box-shadow: 0px 1px 2px rgba(60, 64, 67, 0.3), 0px 1px 3px 1px rgba(60, 64, 67, 0.15);\n",
              "      fill: #174EA6;\n",
              "    }\n",
              "\n",
              "    [theme=dark] .colab-df-convert {\n",
              "      background-color: #3B4455;\n",
              "      fill: #D2E3FC;\n",
              "    }\n",
              "\n",
              "    [theme=dark] .colab-df-convert:hover {\n",
              "      background-color: #434B5C;\n",
              "      box-shadow: 0px 1px 3px 1px rgba(0, 0, 0, 0.15);\n",
              "      filter: drop-shadow(0px 1px 2px rgba(0, 0, 0, 0.3));\n",
              "      fill: #FFFFFF;\n",
              "    }\n",
              "  </style>\n",
              "\n",
              "      <script>\n",
              "        const buttonEl =\n",
              "          document.querySelector('#df-9c99a481-8e2a-4774-8d62-9d02da348edc button.colab-df-convert');\n",
              "        buttonEl.style.display =\n",
              "          google.colab.kernel.accessAllowed ? 'block' : 'none';\n",
              "\n",
              "        async function convertToInteractive(key) {\n",
              "          const element = document.querySelector('#df-9c99a481-8e2a-4774-8d62-9d02da348edc');\n",
              "          const dataTable =\n",
              "            await google.colab.kernel.invokeFunction('convertToInteractive',\n",
              "                                                     [key], {});\n",
              "          if (!dataTable) return;\n",
              "\n",
              "          const docLinkHtml = 'Like what you see? Visit the ' +\n",
              "            '<a target=\"_blank\" href=https://colab.research.google.com/notebooks/data_table.ipynb>data table notebook</a>'\n",
              "            + ' to learn more about interactive tables.';\n",
              "          element.innerHTML = '';\n",
              "          dataTable['output_type'] = 'display_data';\n",
              "          await google.colab.output.renderOutput(dataTable, element);\n",
              "          const docLink = document.createElement('div');\n",
              "          docLink.innerHTML = docLinkHtml;\n",
              "          element.appendChild(docLink);\n",
              "        }\n",
              "      </script>\n",
              "    </div>\n",
              "  </div>\n",
              "  "
            ]
          },
          "metadata": {},
          "execution_count": 11
        }
      ],
      "source": [
        "df_college.head()"
      ]
    },
    {
      "cell_type": "markdown",
      "metadata": {
        "id": "seNXIKL-tgmY"
      },
      "source": [
        "### Display the last five rows of the dataset\n"
      ]
    },
    {
      "cell_type": "code",
      "execution_count": 12,
      "metadata": {
        "id": "1iAyCwLGtgmY",
        "outputId": "b6277c60-2196-4558-8b86-6278b29425ae",
        "colab": {
          "base_uri": "https://localhost:8080/",
          "height": 320
        }
      },
      "outputs": [
        {
          "output_type": "execute_result",
          "data": {
            "text/plain": [
              "     Rank                         Name         City State Public/Private  \\\n",
              "623   645            Morehouse College      Atlanta    GA        Private   \n",
              "624   646  New Mexico State University   Las Cruces    NM         Public   \n",
              "625   647     Indiana State University  Terre Haute    IN         Public   \n",
              "626   648    Emory &amp; Henry College        Emory    VA        Private   \n",
              "627   650              Catawba College    Salisbury    NC        Private   \n",
              "\n",
              "     Undergraduate Population  Student Population  Net Price  \\\n",
              "623                      2202                2219    34928.0   \n",
              "624                     13379               14432     8625.0   \n",
              "625                     13626               13763    13012.0   \n",
              "626                      1094                1226    19340.0   \n",
              "627                      1336                1463    19807.0   \n",
              "\n",
              "     Average Grant Aid  Total Annual Cost  Alumni Salary  Acceptance Rate  \n",
              "623            17318.0              48723        98700.0             74.0  \n",
              "624             9582.0              34720        96700.0             64.0  \n",
              "625             9297.0              32938        85600.0             85.0  \n",
              "626            27155.0              48100        70700.0             72.0  \n",
              "627            23662.0              44921        78100.0             42.0  "
            ],
            "text/html": [
              "\n",
              "  <div id=\"df-b942ca59-2bf0-422f-8b44-5a6baefc2929\">\n",
              "    <div class=\"colab-df-container\">\n",
              "      <div>\n",
              "<style scoped>\n",
              "    .dataframe tbody tr th:only-of-type {\n",
              "        vertical-align: middle;\n",
              "    }\n",
              "\n",
              "    .dataframe tbody tr th {\n",
              "        vertical-align: top;\n",
              "    }\n",
              "\n",
              "    .dataframe thead th {\n",
              "        text-align: right;\n",
              "    }\n",
              "</style>\n",
              "<table border=\"1\" class=\"dataframe\">\n",
              "  <thead>\n",
              "    <tr style=\"text-align: right;\">\n",
              "      <th></th>\n",
              "      <th>Rank</th>\n",
              "      <th>Name</th>\n",
              "      <th>City</th>\n",
              "      <th>State</th>\n",
              "      <th>Public/Private</th>\n",
              "      <th>Undergraduate Population</th>\n",
              "      <th>Student Population</th>\n",
              "      <th>Net Price</th>\n",
              "      <th>Average Grant Aid</th>\n",
              "      <th>Total Annual Cost</th>\n",
              "      <th>Alumni Salary</th>\n",
              "      <th>Acceptance Rate</th>\n",
              "    </tr>\n",
              "  </thead>\n",
              "  <tbody>\n",
              "    <tr>\n",
              "      <th>623</th>\n",
              "      <td>645</td>\n",
              "      <td>Morehouse College</td>\n",
              "      <td>Atlanta</td>\n",
              "      <td>GA</td>\n",
              "      <td>Private</td>\n",
              "      <td>2202</td>\n",
              "      <td>2219</td>\n",
              "      <td>34928.0</td>\n",
              "      <td>17318.0</td>\n",
              "      <td>48723</td>\n",
              "      <td>98700.0</td>\n",
              "      <td>74.0</td>\n",
              "    </tr>\n",
              "    <tr>\n",
              "      <th>624</th>\n",
              "      <td>646</td>\n",
              "      <td>New Mexico State University</td>\n",
              "      <td>Las Cruces</td>\n",
              "      <td>NM</td>\n",
              "      <td>Public</td>\n",
              "      <td>13379</td>\n",
              "      <td>14432</td>\n",
              "      <td>8625.0</td>\n",
              "      <td>9582.0</td>\n",
              "      <td>34720</td>\n",
              "      <td>96700.0</td>\n",
              "      <td>64.0</td>\n",
              "    </tr>\n",
              "    <tr>\n",
              "      <th>625</th>\n",
              "      <td>647</td>\n",
              "      <td>Indiana State University</td>\n",
              "      <td>Terre Haute</td>\n",
              "      <td>IN</td>\n",
              "      <td>Public</td>\n",
              "      <td>13626</td>\n",
              "      <td>13763</td>\n",
              "      <td>13012.0</td>\n",
              "      <td>9297.0</td>\n",
              "      <td>32938</td>\n",
              "      <td>85600.0</td>\n",
              "      <td>85.0</td>\n",
              "    </tr>\n",
              "    <tr>\n",
              "      <th>626</th>\n",
              "      <td>648</td>\n",
              "      <td>Emory &amp;amp; Henry College</td>\n",
              "      <td>Emory</td>\n",
              "      <td>VA</td>\n",
              "      <td>Private</td>\n",
              "      <td>1094</td>\n",
              "      <td>1226</td>\n",
              "      <td>19340.0</td>\n",
              "      <td>27155.0</td>\n",
              "      <td>48100</td>\n",
              "      <td>70700.0</td>\n",
              "      <td>72.0</td>\n",
              "    </tr>\n",
              "    <tr>\n",
              "      <th>627</th>\n",
              "      <td>650</td>\n",
              "      <td>Catawba College</td>\n",
              "      <td>Salisbury</td>\n",
              "      <td>NC</td>\n",
              "      <td>Private</td>\n",
              "      <td>1336</td>\n",
              "      <td>1463</td>\n",
              "      <td>19807.0</td>\n",
              "      <td>23662.0</td>\n",
              "      <td>44921</td>\n",
              "      <td>78100.0</td>\n",
              "      <td>42.0</td>\n",
              "    </tr>\n",
              "  </tbody>\n",
              "</table>\n",
              "</div>\n",
              "      <button class=\"colab-df-convert\" onclick=\"convertToInteractive('df-b942ca59-2bf0-422f-8b44-5a6baefc2929')\"\n",
              "              title=\"Convert this dataframe to an interactive table.\"\n",
              "              style=\"display:none;\">\n",
              "        \n",
              "  <svg xmlns=\"http://www.w3.org/2000/svg\" height=\"24px\"viewBox=\"0 0 24 24\"\n",
              "       width=\"24px\">\n",
              "    <path d=\"M0 0h24v24H0V0z\" fill=\"none\"/>\n",
              "    <path d=\"M18.56 5.44l.94 2.06.94-2.06 2.06-.94-2.06-.94-.94-2.06-.94 2.06-2.06.94zm-11 1L8.5 8.5l.94-2.06 2.06-.94-2.06-.94L8.5 2.5l-.94 2.06-2.06.94zm10 10l.94 2.06.94-2.06 2.06-.94-2.06-.94-.94-2.06-.94 2.06-2.06.94z\"/><path d=\"M17.41 7.96l-1.37-1.37c-.4-.4-.92-.59-1.43-.59-.52 0-1.04.2-1.43.59L10.3 9.45l-7.72 7.72c-.78.78-.78 2.05 0 2.83L4 21.41c.39.39.9.59 1.41.59.51 0 1.02-.2 1.41-.59l7.78-7.78 2.81-2.81c.8-.78.8-2.07 0-2.86zM5.41 20L4 18.59l7.72-7.72 1.47 1.35L5.41 20z\"/>\n",
              "  </svg>\n",
              "      </button>\n",
              "      \n",
              "  <style>\n",
              "    .colab-df-container {\n",
              "      display:flex;\n",
              "      flex-wrap:wrap;\n",
              "      gap: 12px;\n",
              "    }\n",
              "\n",
              "    .colab-df-convert {\n",
              "      background-color: #E8F0FE;\n",
              "      border: none;\n",
              "      border-radius: 50%;\n",
              "      cursor: pointer;\n",
              "      display: none;\n",
              "      fill: #1967D2;\n",
              "      height: 32px;\n",
              "      padding: 0 0 0 0;\n",
              "      width: 32px;\n",
              "    }\n",
              "\n",
              "    .colab-df-convert:hover {\n",
              "      background-color: #E2EBFA;\n",
              "      box-shadow: 0px 1px 2px rgba(60, 64, 67, 0.3), 0px 1px 3px 1px rgba(60, 64, 67, 0.15);\n",
              "      fill: #174EA6;\n",
              "    }\n",
              "\n",
              "    [theme=dark] .colab-df-convert {\n",
              "      background-color: #3B4455;\n",
              "      fill: #D2E3FC;\n",
              "    }\n",
              "\n",
              "    [theme=dark] .colab-df-convert:hover {\n",
              "      background-color: #434B5C;\n",
              "      box-shadow: 0px 1px 3px 1px rgba(0, 0, 0, 0.15);\n",
              "      filter: drop-shadow(0px 1px 2px rgba(0, 0, 0, 0.3));\n",
              "      fill: #FFFFFF;\n",
              "    }\n",
              "  </style>\n",
              "\n",
              "      <script>\n",
              "        const buttonEl =\n",
              "          document.querySelector('#df-b942ca59-2bf0-422f-8b44-5a6baefc2929 button.colab-df-convert');\n",
              "        buttonEl.style.display =\n",
              "          google.colab.kernel.accessAllowed ? 'block' : 'none';\n",
              "\n",
              "        async function convertToInteractive(key) {\n",
              "          const element = document.querySelector('#df-b942ca59-2bf0-422f-8b44-5a6baefc2929');\n",
              "          const dataTable =\n",
              "            await google.colab.kernel.invokeFunction('convertToInteractive',\n",
              "                                                     [key], {});\n",
              "          if (!dataTable) return;\n",
              "\n",
              "          const docLinkHtml = 'Like what you see? Visit the ' +\n",
              "            '<a target=\"_blank\" href=https://colab.research.google.com/notebooks/data_table.ipynb>data table notebook</a>'\n",
              "            + ' to learn more about interactive tables.';\n",
              "          element.innerHTML = '';\n",
              "          dataTable['output_type'] = 'display_data';\n",
              "          await google.colab.output.renderOutput(dataTable, element);\n",
              "          const docLink = document.createElement('div');\n",
              "          docLink.innerHTML = docLinkHtml;\n",
              "          element.appendChild(docLink);\n",
              "        }\n",
              "      </script>\n",
              "    </div>\n",
              "  </div>\n",
              "  "
            ]
          },
          "metadata": {},
          "execution_count": 12
        }
      ],
      "source": [
        "df_college.tail()"
      ]
    },
    {
      "cell_type": "markdown",
      "metadata": {
        "id": "cHskLSaBtgmZ"
      },
      "source": [
        "Observations:\n",
        "\n",
        "From the head() and tail() output we now see that the indexes are realigned i.e. from 0 through 627 "
      ]
    },
    {
      "cell_type": "markdown",
      "metadata": {
        "id": "2MIH0RTj7_iO"
      },
      "source": [
        "### Recheck the dimension, info of the data and missing values of data"
      ]
    },
    {
      "cell_type": "code",
      "execution_count": 13,
      "metadata": {
        "id": "Er4-UkBFtgmZ",
        "outputId": "e715044a-ba2c-4b33-db27-344bfe92e70c",
        "colab": {
          "base_uri": "https://localhost:8080/"
        }
      },
      "outputs": [
        {
          "output_type": "stream",
          "name": "stdout",
          "text": [
            "The number of rows are:  628 \n",
            "The number of columns are:  12\n",
            "<class 'pandas.core.frame.DataFrame'>\n",
            "RangeIndex: 628 entries, 0 to 627\n",
            "Data columns (total 12 columns):\n",
            " #   Column                    Non-Null Count  Dtype  \n",
            "---  ------                    --------------  -----  \n",
            " 0   Rank                      628 non-null    int64  \n",
            " 1   Name                      628 non-null    object \n",
            " 2   City                      628 non-null    object \n",
            " 3   State                     628 non-null    object \n",
            " 4   Public/Private            628 non-null    object \n",
            " 5   Undergraduate Population  628 non-null    int64  \n",
            " 6   Student Population        628 non-null    int64  \n",
            " 7   Net Price                 628 non-null    float64\n",
            " 8   Average Grant Aid         628 non-null    float64\n",
            " 9   Total Annual Cost         628 non-null    int64  \n",
            " 10  Alumni Salary             628 non-null    float64\n",
            " 11  Acceptance Rate           628 non-null    float64\n",
            "dtypes: float64(4), int64(4), object(4)\n",
            "memory usage: 59.0+ KB\n"
          ]
        }
      ],
      "source": [
        "print(\"The number of rows are: \",df_college.shape[0],\"\\nThe number of columns are: \",df_college.shape[1])\n",
        "df_college.info()"
      ]
    },
    {
      "cell_type": "code",
      "execution_count": 14,
      "metadata": {
        "id": "kzygTqlAtgmZ",
        "outputId": "3b4ee266-1bde-4729-bc3d-839cdc7df764",
        "colab": {
          "base_uri": "https://localhost:8080/"
        }
      },
      "outputs": [
        {
          "output_type": "execute_result",
          "data": {
            "text/plain": [
              "Rank                        0\n",
              "Name                        0\n",
              "City                        0\n",
              "State                       0\n",
              "Public/Private              0\n",
              "Undergraduate Population    0\n",
              "Student Population          0\n",
              "Net Price                   0\n",
              "Average Grant Aid           0\n",
              "Total Annual Cost           0\n",
              "Alumni Salary               0\n",
              "Acceptance Rate             0\n",
              "dtype: int64"
            ]
          },
          "metadata": {},
          "execution_count": 14
        }
      ],
      "source": [
        "df_college.isnull().sum()"
      ]
    },
    {
      "cell_type": "markdown",
      "metadata": {
        "id": "z8Q3d9YitgmZ"
      },
      "source": [
        "Note:\n",
        "\n",
        "The data is now clean and has no missing values"
      ]
    },
    {
      "cell_type": "markdown",
      "metadata": {
        "id": "0tR2xaFutgmZ"
      },
      "source": [
        "# Data Analysis"
      ]
    },
    {
      "cell_type": "markdown",
      "metadata": {
        "id": "2lAXzmq-tgmZ"
      },
      "source": [
        "### Get Summary of Data"
      ]
    },
    {
      "cell_type": "markdown",
      "metadata": {
        "id": "OlktZ7whtgmZ"
      },
      "source": [
        "'describe()' method generates descriptive statistics. Descriptive statistics include those that summarize the central\n",
        "tendency, dispersion and shape of a dataset's distribution,unique values etc.\n",
        "\n",
        "Passing 'include = 'all'' to describe() method provides descriptive summary of all fields in the DataFrame.\n"
      ]
    },
    {
      "cell_type": "code",
      "execution_count": 15,
      "metadata": {
        "id": "AMsXZpWbtgmZ",
        "outputId": "61433d84-ba73-441a-bcbf-77f9dda5aa2b",
        "colab": {
          "base_uri": "https://localhost:8080/",
          "height": 473
        }
      },
      "outputs": [
        {
          "output_type": "execute_result",
          "data": {
            "text/plain": [
              "              Rank                Name      City State Public/Private  \\\n",
              "count   628.000000                 628       628   628            628   \n",
              "unique         NaN                 628       457    51              2   \n",
              "top            NaN  Harvard University  New York    NY        Private   \n",
              "freq           NaN                   1        14    64            384   \n",
              "mean    322.122611                 NaN       NaN   NaN            NaN   \n",
              "std     185.360460                 NaN       NaN   NaN            NaN   \n",
              "min       1.000000                 NaN       NaN   NaN            NaN   \n",
              "25%     161.750000                 NaN       NaN   NaN            NaN   \n",
              "50%     321.500000                 NaN       NaN   NaN            NaN   \n",
              "75%     479.250000                 NaN       NaN   NaN            NaN   \n",
              "max     650.000000                 NaN       NaN   NaN            NaN   \n",
              "\n",
              "        Undergraduate Population  Student Population     Net Price  \\\n",
              "count                 628.000000          628.000000    628.000000   \n",
              "unique                       NaN                 NaN           NaN   \n",
              "top                          NaN                 NaN           NaN   \n",
              "freq                         NaN                 NaN           NaN   \n",
              "mean                10235.472930        12312.912420  22481.570064   \n",
              "std                 11228.048723        13246.660229   8099.771637   \n",
              "min                   323.000000          406.000000   1298.000000   \n",
              "25%                  2062.750000         2294.500000  16476.000000   \n",
              "50%                  4825.500000         6538.500000  22065.000000   \n",
              "75%                 15867.000000        18357.250000  27880.750000   \n",
              "max                 65100.000000        75044.000000  47270.000000   \n",
              "\n",
              "        Average Grant Aid  Total Annual Cost  Alumni Salary  Acceptance Rate  \n",
              "count          628.000000         628.000000     628.000000       628.000000  \n",
              "unique                NaN                NaN            NaN              NaN  \n",
              "top                   NaN                NaN            NaN              NaN  \n",
              "freq                  NaN                NaN            NaN              NaN  \n",
              "mean         19971.522293       50722.579618   98616.242038        61.721338  \n",
              "std          11214.740998       12670.126944   14026.078146        21.795857  \n",
              "min           2975.000000        8646.000000   70700.000000         5.000000  \n",
              "25%           9253.000000       40076.000000   88600.000000        49.000000  \n",
              "50%          19605.000000       50478.000000   96300.000000        67.000000  \n",
              "75%          27431.000000       60965.000000  105400.000000        78.000000  \n",
              "max          50897.000000       75735.000000  158200.000000       100.000000  "
            ],
            "text/html": [
              "\n",
              "  <div id=\"df-723e691e-83e0-4ca7-9776-c0ba266862ea\">\n",
              "    <div class=\"colab-df-container\">\n",
              "      <div>\n",
              "<style scoped>\n",
              "    .dataframe tbody tr th:only-of-type {\n",
              "        vertical-align: middle;\n",
              "    }\n",
              "\n",
              "    .dataframe tbody tr th {\n",
              "        vertical-align: top;\n",
              "    }\n",
              "\n",
              "    .dataframe thead th {\n",
              "        text-align: right;\n",
              "    }\n",
              "</style>\n",
              "<table border=\"1\" class=\"dataframe\">\n",
              "  <thead>\n",
              "    <tr style=\"text-align: right;\">\n",
              "      <th></th>\n",
              "      <th>Rank</th>\n",
              "      <th>Name</th>\n",
              "      <th>City</th>\n",
              "      <th>State</th>\n",
              "      <th>Public/Private</th>\n",
              "      <th>Undergraduate Population</th>\n",
              "      <th>Student Population</th>\n",
              "      <th>Net Price</th>\n",
              "      <th>Average Grant Aid</th>\n",
              "      <th>Total Annual Cost</th>\n",
              "      <th>Alumni Salary</th>\n",
              "      <th>Acceptance Rate</th>\n",
              "    </tr>\n",
              "  </thead>\n",
              "  <tbody>\n",
              "    <tr>\n",
              "      <th>count</th>\n",
              "      <td>628.000000</td>\n",
              "      <td>628</td>\n",
              "      <td>628</td>\n",
              "      <td>628</td>\n",
              "      <td>628</td>\n",
              "      <td>628.000000</td>\n",
              "      <td>628.000000</td>\n",
              "      <td>628.000000</td>\n",
              "      <td>628.000000</td>\n",
              "      <td>628.000000</td>\n",
              "      <td>628.000000</td>\n",
              "      <td>628.000000</td>\n",
              "    </tr>\n",
              "    <tr>\n",
              "      <th>unique</th>\n",
              "      <td>NaN</td>\n",
              "      <td>628</td>\n",
              "      <td>457</td>\n",
              "      <td>51</td>\n",
              "      <td>2</td>\n",
              "      <td>NaN</td>\n",
              "      <td>NaN</td>\n",
              "      <td>NaN</td>\n",
              "      <td>NaN</td>\n",
              "      <td>NaN</td>\n",
              "      <td>NaN</td>\n",
              "      <td>NaN</td>\n",
              "    </tr>\n",
              "    <tr>\n",
              "      <th>top</th>\n",
              "      <td>NaN</td>\n",
              "      <td>Harvard University</td>\n",
              "      <td>New York</td>\n",
              "      <td>NY</td>\n",
              "      <td>Private</td>\n",
              "      <td>NaN</td>\n",
              "      <td>NaN</td>\n",
              "      <td>NaN</td>\n",
              "      <td>NaN</td>\n",
              "      <td>NaN</td>\n",
              "      <td>NaN</td>\n",
              "      <td>NaN</td>\n",
              "    </tr>\n",
              "    <tr>\n",
              "      <th>freq</th>\n",
              "      <td>NaN</td>\n",
              "      <td>1</td>\n",
              "      <td>14</td>\n",
              "      <td>64</td>\n",
              "      <td>384</td>\n",
              "      <td>NaN</td>\n",
              "      <td>NaN</td>\n",
              "      <td>NaN</td>\n",
              "      <td>NaN</td>\n",
              "      <td>NaN</td>\n",
              "      <td>NaN</td>\n",
              "      <td>NaN</td>\n",
              "    </tr>\n",
              "    <tr>\n",
              "      <th>mean</th>\n",
              "      <td>322.122611</td>\n",
              "      <td>NaN</td>\n",
              "      <td>NaN</td>\n",
              "      <td>NaN</td>\n",
              "      <td>NaN</td>\n",
              "      <td>10235.472930</td>\n",
              "      <td>12312.912420</td>\n",
              "      <td>22481.570064</td>\n",
              "      <td>19971.522293</td>\n",
              "      <td>50722.579618</td>\n",
              "      <td>98616.242038</td>\n",
              "      <td>61.721338</td>\n",
              "    </tr>\n",
              "    <tr>\n",
              "      <th>std</th>\n",
              "      <td>185.360460</td>\n",
              "      <td>NaN</td>\n",
              "      <td>NaN</td>\n",
              "      <td>NaN</td>\n",
              "      <td>NaN</td>\n",
              "      <td>11228.048723</td>\n",
              "      <td>13246.660229</td>\n",
              "      <td>8099.771637</td>\n",
              "      <td>11214.740998</td>\n",
              "      <td>12670.126944</td>\n",
              "      <td>14026.078146</td>\n",
              "      <td>21.795857</td>\n",
              "    </tr>\n",
              "    <tr>\n",
              "      <th>min</th>\n",
              "      <td>1.000000</td>\n",
              "      <td>NaN</td>\n",
              "      <td>NaN</td>\n",
              "      <td>NaN</td>\n",
              "      <td>NaN</td>\n",
              "      <td>323.000000</td>\n",
              "      <td>406.000000</td>\n",
              "      <td>1298.000000</td>\n",
              "      <td>2975.000000</td>\n",
              "      <td>8646.000000</td>\n",
              "      <td>70700.000000</td>\n",
              "      <td>5.000000</td>\n",
              "    </tr>\n",
              "    <tr>\n",
              "      <th>25%</th>\n",
              "      <td>161.750000</td>\n",
              "      <td>NaN</td>\n",
              "      <td>NaN</td>\n",
              "      <td>NaN</td>\n",
              "      <td>NaN</td>\n",
              "      <td>2062.750000</td>\n",
              "      <td>2294.500000</td>\n",
              "      <td>16476.000000</td>\n",
              "      <td>9253.000000</td>\n",
              "      <td>40076.000000</td>\n",
              "      <td>88600.000000</td>\n",
              "      <td>49.000000</td>\n",
              "    </tr>\n",
              "    <tr>\n",
              "      <th>50%</th>\n",
              "      <td>321.500000</td>\n",
              "      <td>NaN</td>\n",
              "      <td>NaN</td>\n",
              "      <td>NaN</td>\n",
              "      <td>NaN</td>\n",
              "      <td>4825.500000</td>\n",
              "      <td>6538.500000</td>\n",
              "      <td>22065.000000</td>\n",
              "      <td>19605.000000</td>\n",
              "      <td>50478.000000</td>\n",
              "      <td>96300.000000</td>\n",
              "      <td>67.000000</td>\n",
              "    </tr>\n",
              "    <tr>\n",
              "      <th>75%</th>\n",
              "      <td>479.250000</td>\n",
              "      <td>NaN</td>\n",
              "      <td>NaN</td>\n",
              "      <td>NaN</td>\n",
              "      <td>NaN</td>\n",
              "      <td>15867.000000</td>\n",
              "      <td>18357.250000</td>\n",
              "      <td>27880.750000</td>\n",
              "      <td>27431.000000</td>\n",
              "      <td>60965.000000</td>\n",
              "      <td>105400.000000</td>\n",
              "      <td>78.000000</td>\n",
              "    </tr>\n",
              "    <tr>\n",
              "      <th>max</th>\n",
              "      <td>650.000000</td>\n",
              "      <td>NaN</td>\n",
              "      <td>NaN</td>\n",
              "      <td>NaN</td>\n",
              "      <td>NaN</td>\n",
              "      <td>65100.000000</td>\n",
              "      <td>75044.000000</td>\n",
              "      <td>47270.000000</td>\n",
              "      <td>50897.000000</td>\n",
              "      <td>75735.000000</td>\n",
              "      <td>158200.000000</td>\n",
              "      <td>100.000000</td>\n",
              "    </tr>\n",
              "  </tbody>\n",
              "</table>\n",
              "</div>\n",
              "      <button class=\"colab-df-convert\" onclick=\"convertToInteractive('df-723e691e-83e0-4ca7-9776-c0ba266862ea')\"\n",
              "              title=\"Convert this dataframe to an interactive table.\"\n",
              "              style=\"display:none;\">\n",
              "        \n",
              "  <svg xmlns=\"http://www.w3.org/2000/svg\" height=\"24px\"viewBox=\"0 0 24 24\"\n",
              "       width=\"24px\">\n",
              "    <path d=\"M0 0h24v24H0V0z\" fill=\"none\"/>\n",
              "    <path d=\"M18.56 5.44l.94 2.06.94-2.06 2.06-.94-2.06-.94-.94-2.06-.94 2.06-2.06.94zm-11 1L8.5 8.5l.94-2.06 2.06-.94-2.06-.94L8.5 2.5l-.94 2.06-2.06.94zm10 10l.94 2.06.94-2.06 2.06-.94-2.06-.94-.94-2.06-.94 2.06-2.06.94z\"/><path d=\"M17.41 7.96l-1.37-1.37c-.4-.4-.92-.59-1.43-.59-.52 0-1.04.2-1.43.59L10.3 9.45l-7.72 7.72c-.78.78-.78 2.05 0 2.83L4 21.41c.39.39.9.59 1.41.59.51 0 1.02-.2 1.41-.59l7.78-7.78 2.81-2.81c.8-.78.8-2.07 0-2.86zM5.41 20L4 18.59l7.72-7.72 1.47 1.35L5.41 20z\"/>\n",
              "  </svg>\n",
              "      </button>\n",
              "      \n",
              "  <style>\n",
              "    .colab-df-container {\n",
              "      display:flex;\n",
              "      flex-wrap:wrap;\n",
              "      gap: 12px;\n",
              "    }\n",
              "\n",
              "    .colab-df-convert {\n",
              "      background-color: #E8F0FE;\n",
              "      border: none;\n",
              "      border-radius: 50%;\n",
              "      cursor: pointer;\n",
              "      display: none;\n",
              "      fill: #1967D2;\n",
              "      height: 32px;\n",
              "      padding: 0 0 0 0;\n",
              "      width: 32px;\n",
              "    }\n",
              "\n",
              "    .colab-df-convert:hover {\n",
              "      background-color: #E2EBFA;\n",
              "      box-shadow: 0px 1px 2px rgba(60, 64, 67, 0.3), 0px 1px 3px 1px rgba(60, 64, 67, 0.15);\n",
              "      fill: #174EA6;\n",
              "    }\n",
              "\n",
              "    [theme=dark] .colab-df-convert {\n",
              "      background-color: #3B4455;\n",
              "      fill: #D2E3FC;\n",
              "    }\n",
              "\n",
              "    [theme=dark] .colab-df-convert:hover {\n",
              "      background-color: #434B5C;\n",
              "      box-shadow: 0px 1px 3px 1px rgba(0, 0, 0, 0.15);\n",
              "      filter: drop-shadow(0px 1px 2px rgba(0, 0, 0, 0.3));\n",
              "      fill: #FFFFFF;\n",
              "    }\n",
              "  </style>\n",
              "\n",
              "      <script>\n",
              "        const buttonEl =\n",
              "          document.querySelector('#df-723e691e-83e0-4ca7-9776-c0ba266862ea button.colab-df-convert');\n",
              "        buttonEl.style.display =\n",
              "          google.colab.kernel.accessAllowed ? 'block' : 'none';\n",
              "\n",
              "        async function convertToInteractive(key) {\n",
              "          const element = document.querySelector('#df-723e691e-83e0-4ca7-9776-c0ba266862ea');\n",
              "          const dataTable =\n",
              "            await google.colab.kernel.invokeFunction('convertToInteractive',\n",
              "                                                     [key], {});\n",
              "          if (!dataTable) return;\n",
              "\n",
              "          const docLinkHtml = 'Like what you see? Visit the ' +\n",
              "            '<a target=\"_blank\" href=https://colab.research.google.com/notebooks/data_table.ipynb>data table notebook</a>'\n",
              "            + ' to learn more about interactive tables.';\n",
              "          element.innerHTML = '';\n",
              "          dataTable['output_type'] = 'display_data';\n",
              "          await google.colab.output.renderOutput(dataTable, element);\n",
              "          const docLink = document.createElement('div');\n",
              "          docLink.innerHTML = docLinkHtml;\n",
              "          element.appendChild(docLink);\n",
              "        }\n",
              "      </script>\n",
              "    </div>\n",
              "  </div>\n",
              "  "
            ]
          },
          "metadata": {},
          "execution_count": 15
        }
      ],
      "source": [
        "df_college.describe(include='all')"
      ]
    },
    {
      "cell_type": "markdown",
      "metadata": {
        "id": "RrH71ybUtgma"
      },
      "source": [
        "### 1) Which are the top 5 colleges listed in the Forbes Magazine 2019?"
      ]
    },
    {
      "cell_type": "markdown",
      "metadata": {
        "id": "jTVMMTNR0_11"
      },
      "source": [
        "<img src =\"https://i.ibb.co/dj0PFhK/Harvard.jpg\" width=80% height =40%></img>\n"
      ]
    },
    {
      "cell_type": "markdown",
      "metadata": {
        "id": "oLOGstSVtgma"
      },
      "source": [
        "As we need the 'Name' of the colleges, we first pick the 'Name' column and then display the top 5 rows using head() function"
      ]
    },
    {
      "cell_type": "markdown",
      "metadata": {
        "id": "-agVXiUhtgma"
      },
      "source": [
        "We can also save the information in an object 'top5' and display it"
      ]
    },
    {
      "cell_type": "code",
      "execution_count": 16,
      "metadata": {
        "id": "ORpS4fMKtgma",
        "outputId": "9e48ac61-d58d-4079-88d7-590e4cdb9584",
        "colab": {
          "base_uri": "https://localhost:8080/"
        }
      },
      "outputs": [
        {
          "output_type": "stream",
          "name": "stdout",
          "text": [
            "0                       Harvard University\n",
            "1                      Stanford University\n",
            "2                          Yale University\n",
            "3    Massachusetts Institute of Technology\n",
            "4                     Princeton University\n",
            "Name: Name, dtype: object\n"
          ]
        }
      ],
      "source": [
        "top5 = df_college.Name.head() \n",
        "print(top5)"
      ]
    },
    {
      "cell_type": "markdown",
      "metadata": {
        "id": "UP_96QNFtgma"
      },
      "source": [
        "Note:\n",
        "\n",
        "Since the data is ordered as per the rank of the universities we can just pick up the top 5 colleges."
      ]
    },
    {
      "cell_type": "markdown",
      "metadata": {
        "id": "p5zmndDStgma"
      },
      "source": [
        "### 2) Which state and city do the top 5 colleges belong to?"
      ]
    },
    {
      "cell_type": "markdown",
      "metadata": {
        "id": "fYwMKw8Ttgma"
      },
      "source": [
        "As we need the 'Name', 'City' and 'State' of the colleges, we first pick the required columns and then display the top 5 rows using head() function"
      ]
    },
    {
      "cell_type": "code",
      "execution_count": 17,
      "metadata": {
        "id": "ZQqj9CmRtgma",
        "outputId": "bb2cec39-ca40-4975-b549-98268393cd39",
        "colab": {
          "base_uri": "https://localhost:8080/",
          "height": 206
        }
      },
      "outputs": [
        {
          "output_type": "execute_result",
          "data": {
            "text/plain": [
              "                                    Name       City State\n",
              "0                     Harvard University  Cambridge    MA\n",
              "1                    Stanford University   Stanford    CA\n",
              "2                        Yale University  New Haven    CT\n",
              "3  Massachusetts Institute of Technology  Cambridge    MA\n",
              "4                   Princeton University  Princeton    NJ"
            ],
            "text/html": [
              "\n",
              "  <div id=\"df-28e7885c-c34a-4407-9ea5-375fc978e16e\">\n",
              "    <div class=\"colab-df-container\">\n",
              "      <div>\n",
              "<style scoped>\n",
              "    .dataframe tbody tr th:only-of-type {\n",
              "        vertical-align: middle;\n",
              "    }\n",
              "\n",
              "    .dataframe tbody tr th {\n",
              "        vertical-align: top;\n",
              "    }\n",
              "\n",
              "    .dataframe thead th {\n",
              "        text-align: right;\n",
              "    }\n",
              "</style>\n",
              "<table border=\"1\" class=\"dataframe\">\n",
              "  <thead>\n",
              "    <tr style=\"text-align: right;\">\n",
              "      <th></th>\n",
              "      <th>Name</th>\n",
              "      <th>City</th>\n",
              "      <th>State</th>\n",
              "    </tr>\n",
              "  </thead>\n",
              "  <tbody>\n",
              "    <tr>\n",
              "      <th>0</th>\n",
              "      <td>Harvard University</td>\n",
              "      <td>Cambridge</td>\n",
              "      <td>MA</td>\n",
              "    </tr>\n",
              "    <tr>\n",
              "      <th>1</th>\n",
              "      <td>Stanford University</td>\n",
              "      <td>Stanford</td>\n",
              "      <td>CA</td>\n",
              "    </tr>\n",
              "    <tr>\n",
              "      <th>2</th>\n",
              "      <td>Yale University</td>\n",
              "      <td>New Haven</td>\n",
              "      <td>CT</td>\n",
              "    </tr>\n",
              "    <tr>\n",
              "      <th>3</th>\n",
              "      <td>Massachusetts Institute of Technology</td>\n",
              "      <td>Cambridge</td>\n",
              "      <td>MA</td>\n",
              "    </tr>\n",
              "    <tr>\n",
              "      <th>4</th>\n",
              "      <td>Princeton University</td>\n",
              "      <td>Princeton</td>\n",
              "      <td>NJ</td>\n",
              "    </tr>\n",
              "  </tbody>\n",
              "</table>\n",
              "</div>\n",
              "      <button class=\"colab-df-convert\" onclick=\"convertToInteractive('df-28e7885c-c34a-4407-9ea5-375fc978e16e')\"\n",
              "              title=\"Convert this dataframe to an interactive table.\"\n",
              "              style=\"display:none;\">\n",
              "        \n",
              "  <svg xmlns=\"http://www.w3.org/2000/svg\" height=\"24px\"viewBox=\"0 0 24 24\"\n",
              "       width=\"24px\">\n",
              "    <path d=\"M0 0h24v24H0V0z\" fill=\"none\"/>\n",
              "    <path d=\"M18.56 5.44l.94 2.06.94-2.06 2.06-.94-2.06-.94-.94-2.06-.94 2.06-2.06.94zm-11 1L8.5 8.5l.94-2.06 2.06-.94-2.06-.94L8.5 2.5l-.94 2.06-2.06.94zm10 10l.94 2.06.94-2.06 2.06-.94-2.06-.94-.94-2.06-.94 2.06-2.06.94z\"/><path d=\"M17.41 7.96l-1.37-1.37c-.4-.4-.92-.59-1.43-.59-.52 0-1.04.2-1.43.59L10.3 9.45l-7.72 7.72c-.78.78-.78 2.05 0 2.83L4 21.41c.39.39.9.59 1.41.59.51 0 1.02-.2 1.41-.59l7.78-7.78 2.81-2.81c.8-.78.8-2.07 0-2.86zM5.41 20L4 18.59l7.72-7.72 1.47 1.35L5.41 20z\"/>\n",
              "  </svg>\n",
              "      </button>\n",
              "      \n",
              "  <style>\n",
              "    .colab-df-container {\n",
              "      display:flex;\n",
              "      flex-wrap:wrap;\n",
              "      gap: 12px;\n",
              "    }\n",
              "\n",
              "    .colab-df-convert {\n",
              "      background-color: #E8F0FE;\n",
              "      border: none;\n",
              "      border-radius: 50%;\n",
              "      cursor: pointer;\n",
              "      display: none;\n",
              "      fill: #1967D2;\n",
              "      height: 32px;\n",
              "      padding: 0 0 0 0;\n",
              "      width: 32px;\n",
              "    }\n",
              "\n",
              "    .colab-df-convert:hover {\n",
              "      background-color: #E2EBFA;\n",
              "      box-shadow: 0px 1px 2px rgba(60, 64, 67, 0.3), 0px 1px 3px 1px rgba(60, 64, 67, 0.15);\n",
              "      fill: #174EA6;\n",
              "    }\n",
              "\n",
              "    [theme=dark] .colab-df-convert {\n",
              "      background-color: #3B4455;\n",
              "      fill: #D2E3FC;\n",
              "    }\n",
              "\n",
              "    [theme=dark] .colab-df-convert:hover {\n",
              "      background-color: #434B5C;\n",
              "      box-shadow: 0px 1px 3px 1px rgba(0, 0, 0, 0.15);\n",
              "      filter: drop-shadow(0px 1px 2px rgba(0, 0, 0, 0.3));\n",
              "      fill: #FFFFFF;\n",
              "    }\n",
              "  </style>\n",
              "\n",
              "      <script>\n",
              "        const buttonEl =\n",
              "          document.querySelector('#df-28e7885c-c34a-4407-9ea5-375fc978e16e button.colab-df-convert');\n",
              "        buttonEl.style.display =\n",
              "          google.colab.kernel.accessAllowed ? 'block' : 'none';\n",
              "\n",
              "        async function convertToInteractive(key) {\n",
              "          const element = document.querySelector('#df-28e7885c-c34a-4407-9ea5-375fc978e16e');\n",
              "          const dataTable =\n",
              "            await google.colab.kernel.invokeFunction('convertToInteractive',\n",
              "                                                     [key], {});\n",
              "          if (!dataTable) return;\n",
              "\n",
              "          const docLinkHtml = 'Like what you see? Visit the ' +\n",
              "            '<a target=\"_blank\" href=https://colab.research.google.com/notebooks/data_table.ipynb>data table notebook</a>'\n",
              "            + ' to learn more about interactive tables.';\n",
              "          element.innerHTML = '';\n",
              "          dataTable['output_type'] = 'display_data';\n",
              "          await google.colab.output.renderOutput(dataTable, element);\n",
              "          const docLink = document.createElement('div');\n",
              "          docLink.innerHTML = docLinkHtml;\n",
              "          element.appendChild(docLink);\n",
              "        }\n",
              "      </script>\n",
              "    </div>\n",
              "  </div>\n",
              "  "
            ]
          },
          "metadata": {},
          "execution_count": 17
        }
      ],
      "source": [
        "df_college[['Name','City','State']].head(5)"
      ]
    },
    {
      "cell_type": "markdown",
      "source": [
        "will try to extract rows with the help of loc and iloc"
      ],
      "metadata": {
        "id": "V03W08dn8KfL"
      }
    },
    {
      "cell_type": "code",
      "execution_count": 18,
      "metadata": {
        "id": "LP8gD4Detgmb",
        "outputId": "58a2b8e7-634e-48ff-9a66-c8492b7f0229",
        "colab": {
          "base_uri": "https://localhost:8080/",
          "height": 206
        }
      },
      "outputs": [
        {
          "output_type": "execute_result",
          "data": {
            "text/plain": [
              "   Rank                                   Name       City State\n",
              "0     1                     Harvard University  Cambridge    MA\n",
              "1     2                    Stanford University   Stanford    CA\n",
              "2     3                        Yale University  New Haven    CT\n",
              "3     4  Massachusetts Institute of Technology  Cambridge    MA\n",
              "4     5                   Princeton University  Princeton    NJ"
            ],
            "text/html": [
              "\n",
              "  <div id=\"df-0e955c9a-a897-48d4-a8a7-bea3834c3306\">\n",
              "    <div class=\"colab-df-container\">\n",
              "      <div>\n",
              "<style scoped>\n",
              "    .dataframe tbody tr th:only-of-type {\n",
              "        vertical-align: middle;\n",
              "    }\n",
              "\n",
              "    .dataframe tbody tr th {\n",
              "        vertical-align: top;\n",
              "    }\n",
              "\n",
              "    .dataframe thead th {\n",
              "        text-align: right;\n",
              "    }\n",
              "</style>\n",
              "<table border=\"1\" class=\"dataframe\">\n",
              "  <thead>\n",
              "    <tr style=\"text-align: right;\">\n",
              "      <th></th>\n",
              "      <th>Rank</th>\n",
              "      <th>Name</th>\n",
              "      <th>City</th>\n",
              "      <th>State</th>\n",
              "    </tr>\n",
              "  </thead>\n",
              "  <tbody>\n",
              "    <tr>\n",
              "      <th>0</th>\n",
              "      <td>1</td>\n",
              "      <td>Harvard University</td>\n",
              "      <td>Cambridge</td>\n",
              "      <td>MA</td>\n",
              "    </tr>\n",
              "    <tr>\n",
              "      <th>1</th>\n",
              "      <td>2</td>\n",
              "      <td>Stanford University</td>\n",
              "      <td>Stanford</td>\n",
              "      <td>CA</td>\n",
              "    </tr>\n",
              "    <tr>\n",
              "      <th>2</th>\n",
              "      <td>3</td>\n",
              "      <td>Yale University</td>\n",
              "      <td>New Haven</td>\n",
              "      <td>CT</td>\n",
              "    </tr>\n",
              "    <tr>\n",
              "      <th>3</th>\n",
              "      <td>4</td>\n",
              "      <td>Massachusetts Institute of Technology</td>\n",
              "      <td>Cambridge</td>\n",
              "      <td>MA</td>\n",
              "    </tr>\n",
              "    <tr>\n",
              "      <th>4</th>\n",
              "      <td>5</td>\n",
              "      <td>Princeton University</td>\n",
              "      <td>Princeton</td>\n",
              "      <td>NJ</td>\n",
              "    </tr>\n",
              "  </tbody>\n",
              "</table>\n",
              "</div>\n",
              "      <button class=\"colab-df-convert\" onclick=\"convertToInteractive('df-0e955c9a-a897-48d4-a8a7-bea3834c3306')\"\n",
              "              title=\"Convert this dataframe to an interactive table.\"\n",
              "              style=\"display:none;\">\n",
              "        \n",
              "  <svg xmlns=\"http://www.w3.org/2000/svg\" height=\"24px\"viewBox=\"0 0 24 24\"\n",
              "       width=\"24px\">\n",
              "    <path d=\"M0 0h24v24H0V0z\" fill=\"none\"/>\n",
              "    <path d=\"M18.56 5.44l.94 2.06.94-2.06 2.06-.94-2.06-.94-.94-2.06-.94 2.06-2.06.94zm-11 1L8.5 8.5l.94-2.06 2.06-.94-2.06-.94L8.5 2.5l-.94 2.06-2.06.94zm10 10l.94 2.06.94-2.06 2.06-.94-2.06-.94-.94-2.06-.94 2.06-2.06.94z\"/><path d=\"M17.41 7.96l-1.37-1.37c-.4-.4-.92-.59-1.43-.59-.52 0-1.04.2-1.43.59L10.3 9.45l-7.72 7.72c-.78.78-.78 2.05 0 2.83L4 21.41c.39.39.9.59 1.41.59.51 0 1.02-.2 1.41-.59l7.78-7.78 2.81-2.81c.8-.78.8-2.07 0-2.86zM5.41 20L4 18.59l7.72-7.72 1.47 1.35L5.41 20z\"/>\n",
              "  </svg>\n",
              "      </button>\n",
              "      \n",
              "  <style>\n",
              "    .colab-df-container {\n",
              "      display:flex;\n",
              "      flex-wrap:wrap;\n",
              "      gap: 12px;\n",
              "    }\n",
              "\n",
              "    .colab-df-convert {\n",
              "      background-color: #E8F0FE;\n",
              "      border: none;\n",
              "      border-radius: 50%;\n",
              "      cursor: pointer;\n",
              "      display: none;\n",
              "      fill: #1967D2;\n",
              "      height: 32px;\n",
              "      padding: 0 0 0 0;\n",
              "      width: 32px;\n",
              "    }\n",
              "\n",
              "    .colab-df-convert:hover {\n",
              "      background-color: #E2EBFA;\n",
              "      box-shadow: 0px 1px 2px rgba(60, 64, 67, 0.3), 0px 1px 3px 1px rgba(60, 64, 67, 0.15);\n",
              "      fill: #174EA6;\n",
              "    }\n",
              "\n",
              "    [theme=dark] .colab-df-convert {\n",
              "      background-color: #3B4455;\n",
              "      fill: #D2E3FC;\n",
              "    }\n",
              "\n",
              "    [theme=dark] .colab-df-convert:hover {\n",
              "      background-color: #434B5C;\n",
              "      box-shadow: 0px 1px 3px 1px rgba(0, 0, 0, 0.15);\n",
              "      filter: drop-shadow(0px 1px 2px rgba(0, 0, 0, 0.3));\n",
              "      fill: #FFFFFF;\n",
              "    }\n",
              "  </style>\n",
              "\n",
              "      <script>\n",
              "        const buttonEl =\n",
              "          document.querySelector('#df-0e955c9a-a897-48d4-a8a7-bea3834c3306 button.colab-df-convert');\n",
              "        buttonEl.style.display =\n",
              "          google.colab.kernel.accessAllowed ? 'block' : 'none';\n",
              "\n",
              "        async function convertToInteractive(key) {\n",
              "          const element = document.querySelector('#df-0e955c9a-a897-48d4-a8a7-bea3834c3306');\n",
              "          const dataTable =\n",
              "            await google.colab.kernel.invokeFunction('convertToInteractive',\n",
              "                                                     [key], {});\n",
              "          if (!dataTable) return;\n",
              "\n",
              "          const docLinkHtml = 'Like what you see? Visit the ' +\n",
              "            '<a target=\"_blank\" href=https://colab.research.google.com/notebooks/data_table.ipynb>data table notebook</a>'\n",
              "            + ' to learn more about interactive tables.';\n",
              "          element.innerHTML = '';\n",
              "          dataTable['output_type'] = 'display_data';\n",
              "          await google.colab.output.renderOutput(dataTable, element);\n",
              "          const docLink = document.createElement('div');\n",
              "          docLink.innerHTML = docLinkHtml;\n",
              "          element.appendChild(docLink);\n",
              "        }\n",
              "      </script>\n",
              "    </div>\n",
              "  </div>\n",
              "  "
            ]
          },
          "metadata": {},
          "execution_count": 18
        }
      ],
      "source": [
        "df_college.iloc[0:5,0:4]"
      ]
    },
    {
      "cell_type": "markdown",
      "metadata": {
        "id": "DwVO9HT7tgmb"
      },
      "source": [
        "Note:\n",
        "\n",
        "As 'City' and 'State' are immediate columns after 'Name', iloc can also be used to get the results"
      ]
    },
    {
      "cell_type": "markdown",
      "metadata": {
        "id": "sNsRW3oNtgmb"
      },
      "source": [
        "### 3) How many states and which all states have the colleges listed by Forbes?"
      ]
    },
    {
      "cell_type": "markdown",
      "metadata": {
        "id": "LrIXs8ZBtgmb"
      },
      "source": [
        "'nunique()' returns number of unique elements in the object. As we want number of unique states, we first pick up the 'State' column of the DataFrame and then call nunique() function"
      ]
    },
    {
      "cell_type": "code",
      "execution_count": 19,
      "metadata": {
        "colab": {
          "base_uri": "https://localhost:8080/"
        },
        "id": "hPmLGCqBtgmb",
        "outputId": "b2acc9d6-1392-4b1b-9609-7239782f479b"
      },
      "outputs": [
        {
          "output_type": "execute_result",
          "data": {
            "text/plain": [
              "51"
            ]
          },
          "metadata": {},
          "execution_count": 19
        }
      ],
      "source": [
        "df_college.State.nunique()"
      ]
    },
    {
      "cell_type": "markdown",
      "metadata": {
        "id": "AYeZD7-Ptgmb"
      },
      "source": [
        "'unique()' function returns unique values of Series object. Hence, we first pick up the 'State' column of the DataFrame and then call unique() function to get all all the States"
      ]
    },
    {
      "cell_type": "code",
      "execution_count": 20,
      "metadata": {
        "colab": {
          "base_uri": "https://localhost:8080/"
        },
        "id": "j6CuTyCntgmb",
        "outputId": "26ed3592-7e59-48e7-cdbd-431862c50bfa"
      },
      "outputs": [
        {
          "output_type": "execute_result",
          "data": {
            "text/plain": [
              "array(['MA', 'CA', 'CT', 'NJ', 'PA', 'RI', 'NC', 'NH', 'NY', 'DC', 'IL',\n",
              "       'IN', 'MI', 'TX', 'MD', 'ME', 'TN', 'MO', 'VA', 'VT', 'MN', 'GA',\n",
              "       'WA', 'WI', 'FL', 'OH', 'IA', 'CO', 'UT', 'OR', 'LA', 'SC', 'DE',\n",
              "       'AL', 'AZ', 'OK', 'NE', 'KY', 'KS', 'AR', 'WY', 'NV', 'MS', 'ND',\n",
              "       'HI', 'MT', 'SD', 'NM', 'ID', 'WV', 'AK'], dtype=object)"
            ]
          },
          "metadata": {},
          "execution_count": 20
        }
      ],
      "source": [
        "df_college.State.unique()"
      ]
    },
    {
      "cell_type": "markdown",
      "metadata": {
        "id": "6iiuMMtGtgmb"
      },
      "source": [
        "### 4) In all how many private and public colleges are there in the given list?"
      ]
    },
    {
      "cell_type": "markdown",
      "metadata": {
        "id": "VbJemXU_tgmb"
      },
      "source": [
        "'Public/Private' column is of object data type in the DataFrame.\n",
        "\n",
        "'value_count()' returns a series containing counts of unique values"
      ]
    },
    {
      "cell_type": "code",
      "execution_count": 21,
      "metadata": {
        "colab": {
          "base_uri": "https://localhost:8080/"
        },
        "id": "RQHDdL4xtgmb",
        "outputId": "9cac55f5-b98f-4392-b040-782def40fb3c"
      },
      "outputs": [
        {
          "output_type": "execute_result",
          "data": {
            "text/plain": [
              "Private    384\n",
              "Public     244\n",
              "Name: Public/Private, dtype: int64"
            ]
          },
          "metadata": {},
          "execution_count": 21
        }
      ],
      "source": [
        "df_college['Public/Private'].value_counts()"
      ]
    },
    {
      "cell_type": "markdown",
      "metadata": {
        "id": "D7h5Fcmctgmb"
      },
      "source": [
        "Hence, there are 384 private and 244 public colleges in the given list"
      ]
    },
    {
      "cell_type": "markdown",
      "metadata": {
        "id": "RecfpJzFtgmb"
      },
      "source": [
        "### 5) From the list how many colleges are there within each State? Which State has highest number of colleges?"
      ]
    },
    {
      "cell_type": "markdown",
      "metadata": {
        "id": "yZA5lfSGtgmb"
      },
      "source": [
        "As we have to find number of colleges within each State, we first group (groupby()) the data based on 'State'. For each State we then count the colleges using number of unique values (nunique())  in 'Name' field.\n",
        "\n",
        "As we want the 'State' with highest number of colleges, we sort the values (sort_values()) in descending order to get the results."
      ]
    },
    {
      "cell_type": "markdown",
      "metadata": {
        "id": "y1N1wY1f0_17"
      },
      "source": [
        "<img src =\"https://i.ibb.co/GcnXVC0/New-York.jpg\" width=80% height =40%></img>"
      ]
    },
    {
      "cell_type": "code",
      "execution_count": 22,
      "metadata": {
        "colab": {
          "base_uri": "https://localhost:8080/"
        },
        "id": "1kxn-0Bttgmb",
        "outputId": "24a4bfd1-ed0c-439e-e854-d00ca8a3371c"
      },
      "outputs": [
        {
          "output_type": "stream",
          "name": "stdout",
          "text": [
            "State\n",
            "NY    64\n",
            "CA    56\n",
            "PA    39\n",
            "MA    31\n",
            "OH    29\n",
            "Name: Name, dtype: int64\n"
          ]
        }
      ],
      "source": [
        "top_states=df_college.groupby(by='State').Name.nunique().sort_values(ascending = False).head()\n",
        "print(top_states)"
      ]
    },
    {
      "cell_type": "markdown",
      "metadata": {
        "id": "oBJ3TdOytgmc"
      },
      "source": [
        "### 6) What is percentage of undergraduates in each college? (Add a new field to calculate)"
      ]
    },
    {
      "cell_type": "markdown",
      "metadata": {
        "id": "YauOIxZqtgmc"
      },
      "source": [
        "Divsion of 'Undergraduate Population' by 'Student Population' multiplied by 100 will give percentage of undergraduates.\n",
        "\n",
        "round() method will round off the derived value to 2 decimal places which is then stored in new field 'Percentage UG'"
      ]
    },
    {
      "cell_type": "code",
      "execution_count": 23,
      "metadata": {
        "id": "_T-Auo3gtgmc"
      },
      "outputs": [],
      "source": [
        "df_college['Percentage UG'] = round(df_college['Undergraduate Population']/df_college['Student Population']*100,2)"
      ]
    },
    {
      "cell_type": "code",
      "execution_count": 24,
      "metadata": {
        "colab": {
          "base_uri": "https://localhost:8080/",
          "height": 337
        },
        "id": "jvRdXy7stgmc",
        "outputId": "b8bf03f7-a33c-4054-d558-1d9c0f57b232"
      },
      "outputs": [
        {
          "output_type": "execute_result",
          "data": {
            "text/plain": [
              "   Rank                                   Name       City State  \\\n",
              "0     1                     Harvard University  Cambridge    MA   \n",
              "1     2                    Stanford University   Stanford    CA   \n",
              "2     3                        Yale University  New Haven    CT   \n",
              "3     4  Massachusetts Institute of Technology  Cambridge    MA   \n",
              "4     5                   Princeton University  Princeton    NJ   \n",
              "\n",
              "  Public/Private  Undergraduate Population  Student Population  Net Price  \\\n",
              "0        Private                     13844               31120    14327.0   \n",
              "1        Private                      8402               17534    13261.0   \n",
              "2        Private                      6483               12974    18627.0   \n",
              "3        Private                      4680               11466    20771.0   \n",
              "4        Private                      5659                8273     9327.0   \n",
              "\n",
              "   Average Grant Aid  Total Annual Cost  Alumni Salary  Acceptance Rate  \\\n",
              "0            49870.0              69600       146800.0              5.0   \n",
              "1            50134.0              69109       145200.0              5.0   \n",
              "2            50897.0              71290       138300.0              7.0   \n",
              "3            43248.0              67430       155200.0              7.0   \n",
              "4            48088.0              66150       139400.0              6.0   \n",
              "\n",
              "   Percentage UG  \n",
              "0          44.49  \n",
              "1          47.92  \n",
              "2          49.97  \n",
              "3          40.82  \n",
              "4          68.40  "
            ],
            "text/html": [
              "\n",
              "  <div id=\"df-999f5d23-e23a-493f-b2ba-0607be274878\">\n",
              "    <div class=\"colab-df-container\">\n",
              "      <div>\n",
              "<style scoped>\n",
              "    .dataframe tbody tr th:only-of-type {\n",
              "        vertical-align: middle;\n",
              "    }\n",
              "\n",
              "    .dataframe tbody tr th {\n",
              "        vertical-align: top;\n",
              "    }\n",
              "\n",
              "    .dataframe thead th {\n",
              "        text-align: right;\n",
              "    }\n",
              "</style>\n",
              "<table border=\"1\" class=\"dataframe\">\n",
              "  <thead>\n",
              "    <tr style=\"text-align: right;\">\n",
              "      <th></th>\n",
              "      <th>Rank</th>\n",
              "      <th>Name</th>\n",
              "      <th>City</th>\n",
              "      <th>State</th>\n",
              "      <th>Public/Private</th>\n",
              "      <th>Undergraduate Population</th>\n",
              "      <th>Student Population</th>\n",
              "      <th>Net Price</th>\n",
              "      <th>Average Grant Aid</th>\n",
              "      <th>Total Annual Cost</th>\n",
              "      <th>Alumni Salary</th>\n",
              "      <th>Acceptance Rate</th>\n",
              "      <th>Percentage UG</th>\n",
              "    </tr>\n",
              "  </thead>\n",
              "  <tbody>\n",
              "    <tr>\n",
              "      <th>0</th>\n",
              "      <td>1</td>\n",
              "      <td>Harvard University</td>\n",
              "      <td>Cambridge</td>\n",
              "      <td>MA</td>\n",
              "      <td>Private</td>\n",
              "      <td>13844</td>\n",
              "      <td>31120</td>\n",
              "      <td>14327.0</td>\n",
              "      <td>49870.0</td>\n",
              "      <td>69600</td>\n",
              "      <td>146800.0</td>\n",
              "      <td>5.0</td>\n",
              "      <td>44.49</td>\n",
              "    </tr>\n",
              "    <tr>\n",
              "      <th>1</th>\n",
              "      <td>2</td>\n",
              "      <td>Stanford University</td>\n",
              "      <td>Stanford</td>\n",
              "      <td>CA</td>\n",
              "      <td>Private</td>\n",
              "      <td>8402</td>\n",
              "      <td>17534</td>\n",
              "      <td>13261.0</td>\n",
              "      <td>50134.0</td>\n",
              "      <td>69109</td>\n",
              "      <td>145200.0</td>\n",
              "      <td>5.0</td>\n",
              "      <td>47.92</td>\n",
              "    </tr>\n",
              "    <tr>\n",
              "      <th>2</th>\n",
              "      <td>3</td>\n",
              "      <td>Yale University</td>\n",
              "      <td>New Haven</td>\n",
              "      <td>CT</td>\n",
              "      <td>Private</td>\n",
              "      <td>6483</td>\n",
              "      <td>12974</td>\n",
              "      <td>18627.0</td>\n",
              "      <td>50897.0</td>\n",
              "      <td>71290</td>\n",
              "      <td>138300.0</td>\n",
              "      <td>7.0</td>\n",
              "      <td>49.97</td>\n",
              "    </tr>\n",
              "    <tr>\n",
              "      <th>3</th>\n",
              "      <td>4</td>\n",
              "      <td>Massachusetts Institute of Technology</td>\n",
              "      <td>Cambridge</td>\n",
              "      <td>MA</td>\n",
              "      <td>Private</td>\n",
              "      <td>4680</td>\n",
              "      <td>11466</td>\n",
              "      <td>20771.0</td>\n",
              "      <td>43248.0</td>\n",
              "      <td>67430</td>\n",
              "      <td>155200.0</td>\n",
              "      <td>7.0</td>\n",
              "      <td>40.82</td>\n",
              "    </tr>\n",
              "    <tr>\n",
              "      <th>4</th>\n",
              "      <td>5</td>\n",
              "      <td>Princeton University</td>\n",
              "      <td>Princeton</td>\n",
              "      <td>NJ</td>\n",
              "      <td>Private</td>\n",
              "      <td>5659</td>\n",
              "      <td>8273</td>\n",
              "      <td>9327.0</td>\n",
              "      <td>48088.0</td>\n",
              "      <td>66150</td>\n",
              "      <td>139400.0</td>\n",
              "      <td>6.0</td>\n",
              "      <td>68.40</td>\n",
              "    </tr>\n",
              "  </tbody>\n",
              "</table>\n",
              "</div>\n",
              "      <button class=\"colab-df-convert\" onclick=\"convertToInteractive('df-999f5d23-e23a-493f-b2ba-0607be274878')\"\n",
              "              title=\"Convert this dataframe to an interactive table.\"\n",
              "              style=\"display:none;\">\n",
              "        \n",
              "  <svg xmlns=\"http://www.w3.org/2000/svg\" height=\"24px\"viewBox=\"0 0 24 24\"\n",
              "       width=\"24px\">\n",
              "    <path d=\"M0 0h24v24H0V0z\" fill=\"none\"/>\n",
              "    <path d=\"M18.56 5.44l.94 2.06.94-2.06 2.06-.94-2.06-.94-.94-2.06-.94 2.06-2.06.94zm-11 1L8.5 8.5l.94-2.06 2.06-.94-2.06-.94L8.5 2.5l-.94 2.06-2.06.94zm10 10l.94 2.06.94-2.06 2.06-.94-2.06-.94-.94-2.06-.94 2.06-2.06.94z\"/><path d=\"M17.41 7.96l-1.37-1.37c-.4-.4-.92-.59-1.43-.59-.52 0-1.04.2-1.43.59L10.3 9.45l-7.72 7.72c-.78.78-.78 2.05 0 2.83L4 21.41c.39.39.9.59 1.41.59.51 0 1.02-.2 1.41-.59l7.78-7.78 2.81-2.81c.8-.78.8-2.07 0-2.86zM5.41 20L4 18.59l7.72-7.72 1.47 1.35L5.41 20z\"/>\n",
              "  </svg>\n",
              "      </button>\n",
              "      \n",
              "  <style>\n",
              "    .colab-df-container {\n",
              "      display:flex;\n",
              "      flex-wrap:wrap;\n",
              "      gap: 12px;\n",
              "    }\n",
              "\n",
              "    .colab-df-convert {\n",
              "      background-color: #E8F0FE;\n",
              "      border: none;\n",
              "      border-radius: 50%;\n",
              "      cursor: pointer;\n",
              "      display: none;\n",
              "      fill: #1967D2;\n",
              "      height: 32px;\n",
              "      padding: 0 0 0 0;\n",
              "      width: 32px;\n",
              "    }\n",
              "\n",
              "    .colab-df-convert:hover {\n",
              "      background-color: #E2EBFA;\n",
              "      box-shadow: 0px 1px 2px rgba(60, 64, 67, 0.3), 0px 1px 3px 1px rgba(60, 64, 67, 0.15);\n",
              "      fill: #174EA6;\n",
              "    }\n",
              "\n",
              "    [theme=dark] .colab-df-convert {\n",
              "      background-color: #3B4455;\n",
              "      fill: #D2E3FC;\n",
              "    }\n",
              "\n",
              "    [theme=dark] .colab-df-convert:hover {\n",
              "      background-color: #434B5C;\n",
              "      box-shadow: 0px 1px 3px 1px rgba(0, 0, 0, 0.15);\n",
              "      filter: drop-shadow(0px 1px 2px rgba(0, 0, 0, 0.3));\n",
              "      fill: #FFFFFF;\n",
              "    }\n",
              "  </style>\n",
              "\n",
              "      <script>\n",
              "        const buttonEl =\n",
              "          document.querySelector('#df-999f5d23-e23a-493f-b2ba-0607be274878 button.colab-df-convert');\n",
              "        buttonEl.style.display =\n",
              "          google.colab.kernel.accessAllowed ? 'block' : 'none';\n",
              "\n",
              "        async function convertToInteractive(key) {\n",
              "          const element = document.querySelector('#df-999f5d23-e23a-493f-b2ba-0607be274878');\n",
              "          const dataTable =\n",
              "            await google.colab.kernel.invokeFunction('convertToInteractive',\n",
              "                                                     [key], {});\n",
              "          if (!dataTable) return;\n",
              "\n",
              "          const docLinkHtml = 'Like what you see? Visit the ' +\n",
              "            '<a target=\"_blank\" href=https://colab.research.google.com/notebooks/data_table.ipynb>data table notebook</a>'\n",
              "            + ' to learn more about interactive tables.';\n",
              "          element.innerHTML = '';\n",
              "          dataTable['output_type'] = 'display_data';\n",
              "          await google.colab.output.renderOutput(dataTable, element);\n",
              "          const docLink = document.createElement('div');\n",
              "          docLink.innerHTML = docLinkHtml;\n",
              "          element.appendChild(docLink);\n",
              "        }\n",
              "      </script>\n",
              "    </div>\n",
              "  </div>\n",
              "  "
            ]
          },
          "metadata": {},
          "execution_count": 24
        }
      ],
      "source": [
        "df_college.head()"
      ]
    },
    {
      "cell_type": "code",
      "execution_count": 25,
      "metadata": {
        "colab": {
          "base_uri": "https://localhost:8080/",
          "height": 206
        },
        "id": "nxMuecGY0_1-",
        "outputId": "3f350782-0c6d-4d59-dbcf-1bc00a17e56a"
      },
      "outputs": [
        {
          "output_type": "execute_result",
          "data": {
            "text/plain": [
              "                                    Name  Percentage UG\n",
              "0                     Harvard University          44.49\n",
              "1                    Stanford University          47.92\n",
              "2                        Yale University          49.97\n",
              "3  Massachusetts Institute of Technology          40.82\n",
              "4                   Princeton University          68.40"
            ],
            "text/html": [
              "\n",
              "  <div id=\"df-973e4e39-9187-4b9c-806f-33979a2de1a5\">\n",
              "    <div class=\"colab-df-container\">\n",
              "      <div>\n",
              "<style scoped>\n",
              "    .dataframe tbody tr th:only-of-type {\n",
              "        vertical-align: middle;\n",
              "    }\n",
              "\n",
              "    .dataframe tbody tr th {\n",
              "        vertical-align: top;\n",
              "    }\n",
              "\n",
              "    .dataframe thead th {\n",
              "        text-align: right;\n",
              "    }\n",
              "</style>\n",
              "<table border=\"1\" class=\"dataframe\">\n",
              "  <thead>\n",
              "    <tr style=\"text-align: right;\">\n",
              "      <th></th>\n",
              "      <th>Name</th>\n",
              "      <th>Percentage UG</th>\n",
              "    </tr>\n",
              "  </thead>\n",
              "  <tbody>\n",
              "    <tr>\n",
              "      <th>0</th>\n",
              "      <td>Harvard University</td>\n",
              "      <td>44.49</td>\n",
              "    </tr>\n",
              "    <tr>\n",
              "      <th>1</th>\n",
              "      <td>Stanford University</td>\n",
              "      <td>47.92</td>\n",
              "    </tr>\n",
              "    <tr>\n",
              "      <th>2</th>\n",
              "      <td>Yale University</td>\n",
              "      <td>49.97</td>\n",
              "    </tr>\n",
              "    <tr>\n",
              "      <th>3</th>\n",
              "      <td>Massachusetts Institute of Technology</td>\n",
              "      <td>40.82</td>\n",
              "    </tr>\n",
              "    <tr>\n",
              "      <th>4</th>\n",
              "      <td>Princeton University</td>\n",
              "      <td>68.40</td>\n",
              "    </tr>\n",
              "  </tbody>\n",
              "</table>\n",
              "</div>\n",
              "      <button class=\"colab-df-convert\" onclick=\"convertToInteractive('df-973e4e39-9187-4b9c-806f-33979a2de1a5')\"\n",
              "              title=\"Convert this dataframe to an interactive table.\"\n",
              "              style=\"display:none;\">\n",
              "        \n",
              "  <svg xmlns=\"http://www.w3.org/2000/svg\" height=\"24px\"viewBox=\"0 0 24 24\"\n",
              "       width=\"24px\">\n",
              "    <path d=\"M0 0h24v24H0V0z\" fill=\"none\"/>\n",
              "    <path d=\"M18.56 5.44l.94 2.06.94-2.06 2.06-.94-2.06-.94-.94-2.06-.94 2.06-2.06.94zm-11 1L8.5 8.5l.94-2.06 2.06-.94-2.06-.94L8.5 2.5l-.94 2.06-2.06.94zm10 10l.94 2.06.94-2.06 2.06-.94-2.06-.94-.94-2.06-.94 2.06-2.06.94z\"/><path d=\"M17.41 7.96l-1.37-1.37c-.4-.4-.92-.59-1.43-.59-.52 0-1.04.2-1.43.59L10.3 9.45l-7.72 7.72c-.78.78-.78 2.05 0 2.83L4 21.41c.39.39.9.59 1.41.59.51 0 1.02-.2 1.41-.59l7.78-7.78 2.81-2.81c.8-.78.8-2.07 0-2.86zM5.41 20L4 18.59l7.72-7.72 1.47 1.35L5.41 20z\"/>\n",
              "  </svg>\n",
              "      </button>\n",
              "      \n",
              "  <style>\n",
              "    .colab-df-container {\n",
              "      display:flex;\n",
              "      flex-wrap:wrap;\n",
              "      gap: 12px;\n",
              "    }\n",
              "\n",
              "    .colab-df-convert {\n",
              "      background-color: #E8F0FE;\n",
              "      border: none;\n",
              "      border-radius: 50%;\n",
              "      cursor: pointer;\n",
              "      display: none;\n",
              "      fill: #1967D2;\n",
              "      height: 32px;\n",
              "      padding: 0 0 0 0;\n",
              "      width: 32px;\n",
              "    }\n",
              "\n",
              "    .colab-df-convert:hover {\n",
              "      background-color: #E2EBFA;\n",
              "      box-shadow: 0px 1px 2px rgba(60, 64, 67, 0.3), 0px 1px 3px 1px rgba(60, 64, 67, 0.15);\n",
              "      fill: #174EA6;\n",
              "    }\n",
              "\n",
              "    [theme=dark] .colab-df-convert {\n",
              "      background-color: #3B4455;\n",
              "      fill: #D2E3FC;\n",
              "    }\n",
              "\n",
              "    [theme=dark] .colab-df-convert:hover {\n",
              "      background-color: #434B5C;\n",
              "      box-shadow: 0px 1px 3px 1px rgba(0, 0, 0, 0.15);\n",
              "      filter: drop-shadow(0px 1px 2px rgba(0, 0, 0, 0.3));\n",
              "      fill: #FFFFFF;\n",
              "    }\n",
              "  </style>\n",
              "\n",
              "      <script>\n",
              "        const buttonEl =\n",
              "          document.querySelector('#df-973e4e39-9187-4b9c-806f-33979a2de1a5 button.colab-df-convert');\n",
              "        buttonEl.style.display =\n",
              "          google.colab.kernel.accessAllowed ? 'block' : 'none';\n",
              "\n",
              "        async function convertToInteractive(key) {\n",
              "          const element = document.querySelector('#df-973e4e39-9187-4b9c-806f-33979a2de1a5');\n",
              "          const dataTable =\n",
              "            await google.colab.kernel.invokeFunction('convertToInteractive',\n",
              "                                                     [key], {});\n",
              "          if (!dataTable) return;\n",
              "\n",
              "          const docLinkHtml = 'Like what you see? Visit the ' +\n",
              "            '<a target=\"_blank\" href=https://colab.research.google.com/notebooks/data_table.ipynb>data table notebook</a>'\n",
              "            + ' to learn more about interactive tables.';\n",
              "          element.innerHTML = '';\n",
              "          dataTable['output_type'] = 'display_data';\n",
              "          await google.colab.output.renderOutput(dataTable, element);\n",
              "          const docLink = document.createElement('div');\n",
              "          docLink.innerHTML = docLinkHtml;\n",
              "          element.appendChild(docLink);\n",
              "        }\n",
              "      </script>\n",
              "    </div>\n",
              "  </div>\n",
              "  "
            ]
          },
          "metadata": {},
          "execution_count": 25
        }
      ],
      "source": [
        "df_college[['Name','Percentage UG']].head()"
      ]
    },
    {
      "cell_type": "markdown",
      "metadata": {
        "id": "ussS2oQKtgmc"
      },
      "source": [
        "Note:\n",
        "\n",
        "New field gets added at end of the DataFrame"
      ]
    },
    {
      "cell_type": "markdown",
      "metadata": {
        "id": "GnCS2q0vtgmc"
      },
      "source": [
        "### 7) Which are the 5 colleges with highest percentage of undergraduates?"
      ]
    },
    {
      "cell_type": "markdown",
      "metadata": {
        "id": "4z6v1g5atgmc"
      },
      "source": [
        "Let's just pick up 'Name' and 'Percentage UG' field, sort by 'Percentage UG' in descending order to get the desired ouput"
      ]
    },
    {
      "cell_type": "code",
      "execution_count": 26,
      "metadata": {
        "colab": {
          "base_uri": "https://localhost:8080/",
          "height": 206
        },
        "id": "S0_s3CPHtgmc",
        "outputId": "f766271d-883f-4d8f-95e1-cb5224eaab5d"
      },
      "outputs": [
        {
          "output_type": "execute_result",
          "data": {
            "text/plain": [
              "                                       Name  Percentage UG\n",
              "556  University of Texas, Rio Grande Valley          99.99\n",
              "246            Saint John's University (MN)          99.94\n",
              "552                      Oakland University          99.94\n",
              "357                    Salisbury University          99.92\n",
              "338                     St. Norbert College          99.86"
            ],
            "text/html": [
              "\n",
              "  <div id=\"df-8f6a70b8-1fad-4ae2-83ee-ca77ed54eb30\">\n",
              "    <div class=\"colab-df-container\">\n",
              "      <div>\n",
              "<style scoped>\n",
              "    .dataframe tbody tr th:only-of-type {\n",
              "        vertical-align: middle;\n",
              "    }\n",
              "\n",
              "    .dataframe tbody tr th {\n",
              "        vertical-align: top;\n",
              "    }\n",
              "\n",
              "    .dataframe thead th {\n",
              "        text-align: right;\n",
              "    }\n",
              "</style>\n",
              "<table border=\"1\" class=\"dataframe\">\n",
              "  <thead>\n",
              "    <tr style=\"text-align: right;\">\n",
              "      <th></th>\n",
              "      <th>Name</th>\n",
              "      <th>Percentage UG</th>\n",
              "    </tr>\n",
              "  </thead>\n",
              "  <tbody>\n",
              "    <tr>\n",
              "      <th>556</th>\n",
              "      <td>University of Texas, Rio Grande Valley</td>\n",
              "      <td>99.99</td>\n",
              "    </tr>\n",
              "    <tr>\n",
              "      <th>246</th>\n",
              "      <td>Saint John's University (MN)</td>\n",
              "      <td>99.94</td>\n",
              "    </tr>\n",
              "    <tr>\n",
              "      <th>552</th>\n",
              "      <td>Oakland University</td>\n",
              "      <td>99.94</td>\n",
              "    </tr>\n",
              "    <tr>\n",
              "      <th>357</th>\n",
              "      <td>Salisbury University</td>\n",
              "      <td>99.92</td>\n",
              "    </tr>\n",
              "    <tr>\n",
              "      <th>338</th>\n",
              "      <td>St. Norbert College</td>\n",
              "      <td>99.86</td>\n",
              "    </tr>\n",
              "  </tbody>\n",
              "</table>\n",
              "</div>\n",
              "      <button class=\"colab-df-convert\" onclick=\"convertToInteractive('df-8f6a70b8-1fad-4ae2-83ee-ca77ed54eb30')\"\n",
              "              title=\"Convert this dataframe to an interactive table.\"\n",
              "              style=\"display:none;\">\n",
              "        \n",
              "  <svg xmlns=\"http://www.w3.org/2000/svg\" height=\"24px\"viewBox=\"0 0 24 24\"\n",
              "       width=\"24px\">\n",
              "    <path d=\"M0 0h24v24H0V0z\" fill=\"none\"/>\n",
              "    <path d=\"M18.56 5.44l.94 2.06.94-2.06 2.06-.94-2.06-.94-.94-2.06-.94 2.06-2.06.94zm-11 1L8.5 8.5l.94-2.06 2.06-.94-2.06-.94L8.5 2.5l-.94 2.06-2.06.94zm10 10l.94 2.06.94-2.06 2.06-.94-2.06-.94-.94-2.06-.94 2.06-2.06.94z\"/><path d=\"M17.41 7.96l-1.37-1.37c-.4-.4-.92-.59-1.43-.59-.52 0-1.04.2-1.43.59L10.3 9.45l-7.72 7.72c-.78.78-.78 2.05 0 2.83L4 21.41c.39.39.9.59 1.41.59.51 0 1.02-.2 1.41-.59l7.78-7.78 2.81-2.81c.8-.78.8-2.07 0-2.86zM5.41 20L4 18.59l7.72-7.72 1.47 1.35L5.41 20z\"/>\n",
              "  </svg>\n",
              "      </button>\n",
              "      \n",
              "  <style>\n",
              "    .colab-df-container {\n",
              "      display:flex;\n",
              "      flex-wrap:wrap;\n",
              "      gap: 12px;\n",
              "    }\n",
              "\n",
              "    .colab-df-convert {\n",
              "      background-color: #E8F0FE;\n",
              "      border: none;\n",
              "      border-radius: 50%;\n",
              "      cursor: pointer;\n",
              "      display: none;\n",
              "      fill: #1967D2;\n",
              "      height: 32px;\n",
              "      padding: 0 0 0 0;\n",
              "      width: 32px;\n",
              "    }\n",
              "\n",
              "    .colab-df-convert:hover {\n",
              "      background-color: #E2EBFA;\n",
              "      box-shadow: 0px 1px 2px rgba(60, 64, 67, 0.3), 0px 1px 3px 1px rgba(60, 64, 67, 0.15);\n",
              "      fill: #174EA6;\n",
              "    }\n",
              "\n",
              "    [theme=dark] .colab-df-convert {\n",
              "      background-color: #3B4455;\n",
              "      fill: #D2E3FC;\n",
              "    }\n",
              "\n",
              "    [theme=dark] .colab-df-convert:hover {\n",
              "      background-color: #434B5C;\n",
              "      box-shadow: 0px 1px 3px 1px rgba(0, 0, 0, 0.15);\n",
              "      filter: drop-shadow(0px 1px 2px rgba(0, 0, 0, 0.3));\n",
              "      fill: #FFFFFF;\n",
              "    }\n",
              "  </style>\n",
              "\n",
              "      <script>\n",
              "        const buttonEl =\n",
              "          document.querySelector('#df-8f6a70b8-1fad-4ae2-83ee-ca77ed54eb30 button.colab-df-convert');\n",
              "        buttonEl.style.display =\n",
              "          google.colab.kernel.accessAllowed ? 'block' : 'none';\n",
              "\n",
              "        async function convertToInteractive(key) {\n",
              "          const element = document.querySelector('#df-8f6a70b8-1fad-4ae2-83ee-ca77ed54eb30');\n",
              "          const dataTable =\n",
              "            await google.colab.kernel.invokeFunction('convertToInteractive',\n",
              "                                                     [key], {});\n",
              "          if (!dataTable) return;\n",
              "\n",
              "          const docLinkHtml = 'Like what you see? Visit the ' +\n",
              "            '<a target=\"_blank\" href=https://colab.research.google.com/notebooks/data_table.ipynb>data table notebook</a>'\n",
              "            + ' to learn more about interactive tables.';\n",
              "          element.innerHTML = '';\n",
              "          dataTable['output_type'] = 'display_data';\n",
              "          await google.colab.output.renderOutput(dataTable, element);\n",
              "          const docLink = document.createElement('div');\n",
              "          docLink.innerHTML = docLinkHtml;\n",
              "          element.appendChild(docLink);\n",
              "        }\n",
              "      </script>\n",
              "    </div>\n",
              "  </div>\n",
              "  "
            ]
          },
          "metadata": {},
          "execution_count": 26
        }
      ],
      "source": [
        "df_college[['Name','Percentage UG']].sort_values(by='Percentage UG', ascending = False).head()"
      ]
    },
    {
      "cell_type": "markdown",
      "metadata": {
        "id": "NcK8UBrXtgmc"
      },
      "source": [
        "### 8) 5 colleges that receive highest Average Grant Aid?"
      ]
    },
    {
      "cell_type": "markdown",
      "metadata": {
        "id": "cUQFFFGGtgmc"
      },
      "source": [
        "Sort 'Average Grant Aid' in descending order and pick up the top 5 colleges using 'Name' field"
      ]
    },
    {
      "cell_type": "markdown",
      "metadata": {
        "id": "7Aa0_Lhm0_2A"
      },
      "source": [
        "<img src =\"https://i.ibb.co/TMtRJ54/Yale.jpg\" width=80% height =40%></img>"
      ]
    },
    {
      "cell_type": "code",
      "execution_count": 27,
      "metadata": {
        "colab": {
          "base_uri": "https://localhost:8080/"
        },
        "id": "kG0vlM2stgmc",
        "outputId": "4c8f2386-e4cd-474d-fe7c-8816f485fa3c"
      },
      "outputs": [
        {
          "output_type": "execute_result",
          "data": {
            "text/plain": [
              "2         Yale University\n",
              "1     Stanford University\n",
              "0      Harvard University\n",
              "26        Amherst College\n",
              "13    Columbia University\n",
              "Name: Name, dtype: object"
            ]
          },
          "metadata": {},
          "execution_count": 27
        }
      ],
      "source": [
        "df_college.sort_values(by='Average Grant Aid', ascending = False).Name.head(5)"
      ]
    },
    {
      "cell_type": "markdown",
      "metadata": {
        "id": "PZLBR78btgmc"
      },
      "source": [
        "\n",
        "### 9) What is the average Undergraduate population in State of 'CA'?"
      ]
    },
    {
      "cell_type": "markdown",
      "metadata": {
        "id": "Z_r3MnY6tgmc"
      },
      "source": [
        "First lets filter the DataFrame and get only rows with 'State' as 'CA'\n",
        "\n",
        "We then pick up the 'Undergraduate Population' for the above subset and calculate its mean\n",
        "\n",
        "round off the final value to 2 decimal places using the round() function"
      ]
    },
    {
      "cell_type": "code",
      "execution_count": 28,
      "metadata": {
        "colab": {
          "base_uri": "https://localhost:8080/"
        },
        "id": "WZ8M0xE8tgmc",
        "outputId": "f8e8a946-d18d-4556-d166-204d8b0a4314"
      },
      "outputs": [
        {
          "output_type": "execute_result",
          "data": {
            "text/plain": [
              "13186.91"
            ]
          },
          "metadata": {},
          "execution_count": 28
        }
      ],
      "source": [
        "round(df_college[df_college.State == 'CA']['Undergraduate Population'].mean(),2)"
      ]
    },
    {
      "cell_type": "markdown",
      "metadata": {
        "id": "_jpeG1v-tgmc"
      },
      "source": [
        "### 10) Which are the colleges where chances of admission is high?"
      ]
    },
    {
      "cell_type": "markdown",
      "metadata": {
        "id": "1hcolpQwtgmc"
      },
      "source": [
        "As per the data dictionary 'Acceptance Rate' field provides information on chances of admission. We can sort this column in descending order to get the results"
      ]
    },
    {
      "cell_type": "code",
      "execution_count": 29,
      "metadata": {
        "colab": {
          "base_uri": "https://localhost:8080/",
          "height": 389
        },
        "id": "rW86etpLtgmd",
        "outputId": "3d8b3e69-492f-4217-e903-32a154cb18a4"
      },
      "outputs": [
        {
          "output_type": "execute_result",
          "data": {
            "text/plain": [
              "     Rank                                Name         City State  \\\n",
              "588   606        University of Texas, El Paso      El Paso    TX   \n",
              "607   627  University of Southern Mississippi  Hattiesburg    MS   \n",
              "339   347               University of Wyoming      Laramie    WY   \n",
              "616   638             Wright State University       Dayton    OH   \n",
              "300   308              University of Kentucky    Lexington    KY   \n",
              "\n",
              "    Public/Private  Undergraduate Population  Student Population  Net Price  \\\n",
              "588         Public                     24386               25078     8135.0   \n",
              "607         Public                     13606               14478    13178.0   \n",
              "339         Public                     10874               12397    13070.0   \n",
              "616         Public                     14332               15957    16249.0   \n",
              "300         Public                     23718               29465    18527.0   \n",
              "\n",
              "     Average Grant Aid  Total Annual Cost  Alumni Salary  Acceptance Rate  \\\n",
              "588             9183.0              36955        92100.0            100.0   \n",
              "607             9292.0              24883        83900.0             98.0   \n",
              "339             7422.0              31387        98800.0             97.0   \n",
              "616             6546.0              32506        87800.0             97.0   \n",
              "300             9387.0              45634        96400.0             96.0   \n",
              "\n",
              "     Percentage UG  \n",
              "588          97.24  \n",
              "607          93.98  \n",
              "339          87.71  \n",
              "616          89.82  \n",
              "300          80.50  "
            ],
            "text/html": [
              "\n",
              "  <div id=\"df-067fb918-c388-4dde-bf55-28ac798b07e6\">\n",
              "    <div class=\"colab-df-container\">\n",
              "      <div>\n",
              "<style scoped>\n",
              "    .dataframe tbody tr th:only-of-type {\n",
              "        vertical-align: middle;\n",
              "    }\n",
              "\n",
              "    .dataframe tbody tr th {\n",
              "        vertical-align: top;\n",
              "    }\n",
              "\n",
              "    .dataframe thead th {\n",
              "        text-align: right;\n",
              "    }\n",
              "</style>\n",
              "<table border=\"1\" class=\"dataframe\">\n",
              "  <thead>\n",
              "    <tr style=\"text-align: right;\">\n",
              "      <th></th>\n",
              "      <th>Rank</th>\n",
              "      <th>Name</th>\n",
              "      <th>City</th>\n",
              "      <th>State</th>\n",
              "      <th>Public/Private</th>\n",
              "      <th>Undergraduate Population</th>\n",
              "      <th>Student Population</th>\n",
              "      <th>Net Price</th>\n",
              "      <th>Average Grant Aid</th>\n",
              "      <th>Total Annual Cost</th>\n",
              "      <th>Alumni Salary</th>\n",
              "      <th>Acceptance Rate</th>\n",
              "      <th>Percentage UG</th>\n",
              "    </tr>\n",
              "  </thead>\n",
              "  <tbody>\n",
              "    <tr>\n",
              "      <th>588</th>\n",
              "      <td>606</td>\n",
              "      <td>University of Texas, El Paso</td>\n",
              "      <td>El Paso</td>\n",
              "      <td>TX</td>\n",
              "      <td>Public</td>\n",
              "      <td>24386</td>\n",
              "      <td>25078</td>\n",
              "      <td>8135.0</td>\n",
              "      <td>9183.0</td>\n",
              "      <td>36955</td>\n",
              "      <td>92100.0</td>\n",
              "      <td>100.0</td>\n",
              "      <td>97.24</td>\n",
              "    </tr>\n",
              "    <tr>\n",
              "      <th>607</th>\n",
              "      <td>627</td>\n",
              "      <td>University of Southern Mississippi</td>\n",
              "      <td>Hattiesburg</td>\n",
              "      <td>MS</td>\n",
              "      <td>Public</td>\n",
              "      <td>13606</td>\n",
              "      <td>14478</td>\n",
              "      <td>13178.0</td>\n",
              "      <td>9292.0</td>\n",
              "      <td>24883</td>\n",
              "      <td>83900.0</td>\n",
              "      <td>98.0</td>\n",
              "      <td>93.98</td>\n",
              "    </tr>\n",
              "    <tr>\n",
              "      <th>339</th>\n",
              "      <td>347</td>\n",
              "      <td>University of Wyoming</td>\n",
              "      <td>Laramie</td>\n",
              "      <td>WY</td>\n",
              "      <td>Public</td>\n",
              "      <td>10874</td>\n",
              "      <td>12397</td>\n",
              "      <td>13070.0</td>\n",
              "      <td>7422.0</td>\n",
              "      <td>31387</td>\n",
              "      <td>98800.0</td>\n",
              "      <td>97.0</td>\n",
              "      <td>87.71</td>\n",
              "    </tr>\n",
              "    <tr>\n",
              "      <th>616</th>\n",
              "      <td>638</td>\n",
              "      <td>Wright State University</td>\n",
              "      <td>Dayton</td>\n",
              "      <td>OH</td>\n",
              "      <td>Public</td>\n",
              "      <td>14332</td>\n",
              "      <td>15957</td>\n",
              "      <td>16249.0</td>\n",
              "      <td>6546.0</td>\n",
              "      <td>32506</td>\n",
              "      <td>87800.0</td>\n",
              "      <td>97.0</td>\n",
              "      <td>89.82</td>\n",
              "    </tr>\n",
              "    <tr>\n",
              "      <th>300</th>\n",
              "      <td>308</td>\n",
              "      <td>University of Kentucky</td>\n",
              "      <td>Lexington</td>\n",
              "      <td>KY</td>\n",
              "      <td>Public</td>\n",
              "      <td>23718</td>\n",
              "      <td>29465</td>\n",
              "      <td>18527.0</td>\n",
              "      <td>9387.0</td>\n",
              "      <td>45634</td>\n",
              "      <td>96400.0</td>\n",
              "      <td>96.0</td>\n",
              "      <td>80.50</td>\n",
              "    </tr>\n",
              "  </tbody>\n",
              "</table>\n",
              "</div>\n",
              "      <button class=\"colab-df-convert\" onclick=\"convertToInteractive('df-067fb918-c388-4dde-bf55-28ac798b07e6')\"\n",
              "              title=\"Convert this dataframe to an interactive table.\"\n",
              "              style=\"display:none;\">\n",
              "        \n",
              "  <svg xmlns=\"http://www.w3.org/2000/svg\" height=\"24px\"viewBox=\"0 0 24 24\"\n",
              "       width=\"24px\">\n",
              "    <path d=\"M0 0h24v24H0V0z\" fill=\"none\"/>\n",
              "    <path d=\"M18.56 5.44l.94 2.06.94-2.06 2.06-.94-2.06-.94-.94-2.06-.94 2.06-2.06.94zm-11 1L8.5 8.5l.94-2.06 2.06-.94-2.06-.94L8.5 2.5l-.94 2.06-2.06.94zm10 10l.94 2.06.94-2.06 2.06-.94-2.06-.94-.94-2.06-.94 2.06-2.06.94z\"/><path d=\"M17.41 7.96l-1.37-1.37c-.4-.4-.92-.59-1.43-.59-.52 0-1.04.2-1.43.59L10.3 9.45l-7.72 7.72c-.78.78-.78 2.05 0 2.83L4 21.41c.39.39.9.59 1.41.59.51 0 1.02-.2 1.41-.59l7.78-7.78 2.81-2.81c.8-.78.8-2.07 0-2.86zM5.41 20L4 18.59l7.72-7.72 1.47 1.35L5.41 20z\"/>\n",
              "  </svg>\n",
              "      </button>\n",
              "      \n",
              "  <style>\n",
              "    .colab-df-container {\n",
              "      display:flex;\n",
              "      flex-wrap:wrap;\n",
              "      gap: 12px;\n",
              "    }\n",
              "\n",
              "    .colab-df-convert {\n",
              "      background-color: #E8F0FE;\n",
              "      border: none;\n",
              "      border-radius: 50%;\n",
              "      cursor: pointer;\n",
              "      display: none;\n",
              "      fill: #1967D2;\n",
              "      height: 32px;\n",
              "      padding: 0 0 0 0;\n",
              "      width: 32px;\n",
              "    }\n",
              "\n",
              "    .colab-df-convert:hover {\n",
              "      background-color: #E2EBFA;\n",
              "      box-shadow: 0px 1px 2px rgba(60, 64, 67, 0.3), 0px 1px 3px 1px rgba(60, 64, 67, 0.15);\n",
              "      fill: #174EA6;\n",
              "    }\n",
              "\n",
              "    [theme=dark] .colab-df-convert {\n",
              "      background-color: #3B4455;\n",
              "      fill: #D2E3FC;\n",
              "    }\n",
              "\n",
              "    [theme=dark] .colab-df-convert:hover {\n",
              "      background-color: #434B5C;\n",
              "      box-shadow: 0px 1px 3px 1px rgba(0, 0, 0, 0.15);\n",
              "      filter: drop-shadow(0px 1px 2px rgba(0, 0, 0, 0.3));\n",
              "      fill: #FFFFFF;\n",
              "    }\n",
              "  </style>\n",
              "\n",
              "      <script>\n",
              "        const buttonEl =\n",
              "          document.querySelector('#df-067fb918-c388-4dde-bf55-28ac798b07e6 button.colab-df-convert');\n",
              "        buttonEl.style.display =\n",
              "          google.colab.kernel.accessAllowed ? 'block' : 'none';\n",
              "\n",
              "        async function convertToInteractive(key) {\n",
              "          const element = document.querySelector('#df-067fb918-c388-4dde-bf55-28ac798b07e6');\n",
              "          const dataTable =\n",
              "            await google.colab.kernel.invokeFunction('convertToInteractive',\n",
              "                                                     [key], {});\n",
              "          if (!dataTable) return;\n",
              "\n",
              "          const docLinkHtml = 'Like what you see? Visit the ' +\n",
              "            '<a target=\"_blank\" href=https://colab.research.google.com/notebooks/data_table.ipynb>data table notebook</a>'\n",
              "            + ' to learn more about interactive tables.';\n",
              "          element.innerHTML = '';\n",
              "          dataTable['output_type'] = 'display_data';\n",
              "          await google.colab.output.renderOutput(dataTable, element);\n",
              "          const docLink = document.createElement('div');\n",
              "          docLink.innerHTML = docLinkHtml;\n",
              "          element.appendChild(docLink);\n",
              "        }\n",
              "      </script>\n",
              "    </div>\n",
              "  </div>\n",
              "  "
            ]
          },
          "metadata": {},
          "execution_count": 29
        }
      ],
      "source": [
        "df_college.sort_values(by='Acceptance Rate', ascending = False).head(5)"
      ]
    },
    {
      "cell_type": "markdown",
      "metadata": {
        "id": "1ORWPdmutgmd"
      },
      "source": [
        "### 11) Find if there are any 'Art' colleges in the list"
      ]
    },
    {
      "cell_type": "markdown",
      "metadata": {
        "id": "fP5vmlQctgmd"
      },
      "source": [
        "To find a specific string value 'Art' we will use the 'contains()' method. We will pass the string in the paranthesis which needs to be located in the dataframe variable."
      ]
    },
    {
      "cell_type": "code",
      "execution_count": 30,
      "metadata": {
        "id": "mXknVr1Vtgmd",
        "outputId": "d5ed53d4-bcce-4a36-ebad-a201887e9ce3",
        "colab": {
          "base_uri": "https://localhost:8080/",
          "height": 260
        }
      },
      "outputs": [
        {
          "output_type": "execute_result",
          "data": {
            "text/plain": [
              "     Rank                               Name           City State  \\\n",
              "295   303  Maryland Institute College of Art      Baltimore    MD   \n",
              "393   402   California Institute of the Arts  Santa Clarita    CA   \n",
              "\n",
              "    Public/Private  Undergraduate Population  Student Population  Net Price  \\\n",
              "295        Private                      2041                2128    38763.0   \n",
              "393        Private                       991                1498    46101.0   \n",
              "\n",
              "     Average Grant Aid  Total Annual Cost  Alumni Salary  Acceptance Rate  \\\n",
              "295            18939.0              62850        84500.0             62.0   \n",
              "393            15401.0              68993        91000.0             24.0   \n",
              "\n",
              "     Percentage UG  \n",
              "295          95.91  \n",
              "393          66.15  "
            ],
            "text/html": [
              "\n",
              "  <div id=\"df-f0be3647-ba36-4d19-947f-b12cec525793\">\n",
              "    <div class=\"colab-df-container\">\n",
              "      <div>\n",
              "<style scoped>\n",
              "    .dataframe tbody tr th:only-of-type {\n",
              "        vertical-align: middle;\n",
              "    }\n",
              "\n",
              "    .dataframe tbody tr th {\n",
              "        vertical-align: top;\n",
              "    }\n",
              "\n",
              "    .dataframe thead th {\n",
              "        text-align: right;\n",
              "    }\n",
              "</style>\n",
              "<table border=\"1\" class=\"dataframe\">\n",
              "  <thead>\n",
              "    <tr style=\"text-align: right;\">\n",
              "      <th></th>\n",
              "      <th>Rank</th>\n",
              "      <th>Name</th>\n",
              "      <th>City</th>\n",
              "      <th>State</th>\n",
              "      <th>Public/Private</th>\n",
              "      <th>Undergraduate Population</th>\n",
              "      <th>Student Population</th>\n",
              "      <th>Net Price</th>\n",
              "      <th>Average Grant Aid</th>\n",
              "      <th>Total Annual Cost</th>\n",
              "      <th>Alumni Salary</th>\n",
              "      <th>Acceptance Rate</th>\n",
              "      <th>Percentage UG</th>\n",
              "    </tr>\n",
              "  </thead>\n",
              "  <tbody>\n",
              "    <tr>\n",
              "      <th>295</th>\n",
              "      <td>303</td>\n",
              "      <td>Maryland Institute College of Art</td>\n",
              "      <td>Baltimore</td>\n",
              "      <td>MD</td>\n",
              "      <td>Private</td>\n",
              "      <td>2041</td>\n",
              "      <td>2128</td>\n",
              "      <td>38763.0</td>\n",
              "      <td>18939.0</td>\n",
              "      <td>62850</td>\n",
              "      <td>84500.0</td>\n",
              "      <td>62.0</td>\n",
              "      <td>95.91</td>\n",
              "    </tr>\n",
              "    <tr>\n",
              "      <th>393</th>\n",
              "      <td>402</td>\n",
              "      <td>California Institute of the Arts</td>\n",
              "      <td>Santa Clarita</td>\n",
              "      <td>CA</td>\n",
              "      <td>Private</td>\n",
              "      <td>991</td>\n",
              "      <td>1498</td>\n",
              "      <td>46101.0</td>\n",
              "      <td>15401.0</td>\n",
              "      <td>68993</td>\n",
              "      <td>91000.0</td>\n",
              "      <td>24.0</td>\n",
              "      <td>66.15</td>\n",
              "    </tr>\n",
              "  </tbody>\n",
              "</table>\n",
              "</div>\n",
              "      <button class=\"colab-df-convert\" onclick=\"convertToInteractive('df-f0be3647-ba36-4d19-947f-b12cec525793')\"\n",
              "              title=\"Convert this dataframe to an interactive table.\"\n",
              "              style=\"display:none;\">\n",
              "        \n",
              "  <svg xmlns=\"http://www.w3.org/2000/svg\" height=\"24px\"viewBox=\"0 0 24 24\"\n",
              "       width=\"24px\">\n",
              "    <path d=\"M0 0h24v24H0V0z\" fill=\"none\"/>\n",
              "    <path d=\"M18.56 5.44l.94 2.06.94-2.06 2.06-.94-2.06-.94-.94-2.06-.94 2.06-2.06.94zm-11 1L8.5 8.5l.94-2.06 2.06-.94-2.06-.94L8.5 2.5l-.94 2.06-2.06.94zm10 10l.94 2.06.94-2.06 2.06-.94-2.06-.94-.94-2.06-.94 2.06-2.06.94z\"/><path d=\"M17.41 7.96l-1.37-1.37c-.4-.4-.92-.59-1.43-.59-.52 0-1.04.2-1.43.59L10.3 9.45l-7.72 7.72c-.78.78-.78 2.05 0 2.83L4 21.41c.39.39.9.59 1.41.59.51 0 1.02-.2 1.41-.59l7.78-7.78 2.81-2.81c.8-.78.8-2.07 0-2.86zM5.41 20L4 18.59l7.72-7.72 1.47 1.35L5.41 20z\"/>\n",
              "  </svg>\n",
              "      </button>\n",
              "      \n",
              "  <style>\n",
              "    .colab-df-container {\n",
              "      display:flex;\n",
              "      flex-wrap:wrap;\n",
              "      gap: 12px;\n",
              "    }\n",
              "\n",
              "    .colab-df-convert {\n",
              "      background-color: #E8F0FE;\n",
              "      border: none;\n",
              "      border-radius: 50%;\n",
              "      cursor: pointer;\n",
              "      display: none;\n",
              "      fill: #1967D2;\n",
              "      height: 32px;\n",
              "      padding: 0 0 0 0;\n",
              "      width: 32px;\n",
              "    }\n",
              "\n",
              "    .colab-df-convert:hover {\n",
              "      background-color: #E2EBFA;\n",
              "      box-shadow: 0px 1px 2px rgba(60, 64, 67, 0.3), 0px 1px 3px 1px rgba(60, 64, 67, 0.15);\n",
              "      fill: #174EA6;\n",
              "    }\n",
              "\n",
              "    [theme=dark] .colab-df-convert {\n",
              "      background-color: #3B4455;\n",
              "      fill: #D2E3FC;\n",
              "    }\n",
              "\n",
              "    [theme=dark] .colab-df-convert:hover {\n",
              "      background-color: #434B5C;\n",
              "      box-shadow: 0px 1px 3px 1px rgba(0, 0, 0, 0.15);\n",
              "      filter: drop-shadow(0px 1px 2px rgba(0, 0, 0, 0.3));\n",
              "      fill: #FFFFFF;\n",
              "    }\n",
              "  </style>\n",
              "\n",
              "      <script>\n",
              "        const buttonEl =\n",
              "          document.querySelector('#df-f0be3647-ba36-4d19-947f-b12cec525793 button.colab-df-convert');\n",
              "        buttonEl.style.display =\n",
              "          google.colab.kernel.accessAllowed ? 'block' : 'none';\n",
              "\n",
              "        async function convertToInteractive(key) {\n",
              "          const element = document.querySelector('#df-f0be3647-ba36-4d19-947f-b12cec525793');\n",
              "          const dataTable =\n",
              "            await google.colab.kernel.invokeFunction('convertToInteractive',\n",
              "                                                     [key], {});\n",
              "          if (!dataTable) return;\n",
              "\n",
              "          const docLinkHtml = 'Like what you see? Visit the ' +\n",
              "            '<a target=\"_blank\" href=https://colab.research.google.com/notebooks/data_table.ipynb>data table notebook</a>'\n",
              "            + ' to learn more about interactive tables.';\n",
              "          element.innerHTML = '';\n",
              "          dataTable['output_type'] = 'display_data';\n",
              "          await google.colab.output.renderOutput(dataTable, element);\n",
              "          const docLink = document.createElement('div');\n",
              "          docLink.innerHTML = docLinkHtml;\n",
              "          element.appendChild(docLink);\n",
              "        }\n",
              "      </script>\n",
              "    </div>\n",
              "  </div>\n",
              "  "
            ]
          },
          "metadata": {},
          "execution_count": 30
        }
      ],
      "source": [
        "df_college[df_college['Name'].str.contains(\"Art\")]"
      ]
    },
    {
      "cell_type": "markdown",
      "metadata": {
        "id": "WuPrMG2Jtgmd"
      },
      "source": [
        "### 12) Lets divide the Alumni Salary equally into 3 buckets (Low Salary - L; Medium Salary - M; High Salary - H ) and check which colleges falls in 'H' bucket"
      ]
    },
    {
      "cell_type": "code",
      "execution_count": 31,
      "metadata": {
        "id": "ZBrzuKHOtgmd"
      },
      "outputs": [],
      "source": [
        "df_college_new = df_college.copy()"
      ]
    },
    {
      "cell_type": "markdown",
      "metadata": {
        "id": "1Y4cKc9ztgmd"
      },
      "source": [
        "Take a copy of the original DataFrame to work on"
      ]
    },
    {
      "cell_type": "code",
      "execution_count": 89,
      "metadata": {
        "id": "OCoOgQSttgmd"
      },
      "outputs": [],
      "source": [
        "df_college_new['Alumni Sal Level']=pd.cut(df_college_new['Alumni Salary'], 3, labels =[\"L\", \"M\", \"H\"])\n"
      ]
    },
    {
      "cell_type": "markdown",
      "metadata": {
        "id": "SchXFRAYtgmd"
      },
      "source": [
        "'cut()' function bins values into discrete intervals. 'cut()' function is used when you need to segment and sort data values into bins. This function is also useful for going from a continuous variable to a categorical variable.\n",
        "\n",
        "In the above code we have created 3 bins using 'Alumni Salary' column. Lowest range of salary is labelled as 'L', middle range is labelled as 'M' and highest range of salary is labelled as 'H'. These labels are saved in a new column 'Alumni Sal Level'.\n",
        "\n",
        "Note: The entire range of the 'Alumni Salary' has been divided into 3 equal ranges i.e. 3 bins"
      ]
    },
    {
      "cell_type": "code",
      "execution_count": 33,
      "metadata": {
        "colab": {
          "base_uri": "https://localhost:8080/",
          "height": 372
        },
        "id": "69_t2FTZtgmd",
        "outputId": "3f56fb07-4296-4f20-cf3d-b7f8eaad47e6"
      },
      "outputs": [
        {
          "output_type": "execute_result",
          "data": {
            "text/plain": [
              "   Rank                                   Name       City State  \\\n",
              "0     1                     Harvard University  Cambridge    MA   \n",
              "1     2                    Stanford University   Stanford    CA   \n",
              "2     3                        Yale University  New Haven    CT   \n",
              "3     4  Massachusetts Institute of Technology  Cambridge    MA   \n",
              "4     5                   Princeton University  Princeton    NJ   \n",
              "\n",
              "  Public/Private  Undergraduate Population  Student Population  Net Price  \\\n",
              "0        Private                     13844               31120    14327.0   \n",
              "1        Private                      8402               17534    13261.0   \n",
              "2        Private                      6483               12974    18627.0   \n",
              "3        Private                      4680               11466    20771.0   \n",
              "4        Private                      5659                8273     9327.0   \n",
              "\n",
              "   Average Grant Aid  Total Annual Cost  Alumni Salary  Acceptance Rate  \\\n",
              "0            49870.0              69600       146800.0              5.0   \n",
              "1            50134.0              69109       145200.0              5.0   \n",
              "2            50897.0              71290       138300.0              7.0   \n",
              "3            43248.0              67430       155200.0              7.0   \n",
              "4            48088.0              66150       139400.0              6.0   \n",
              "\n",
              "   Percentage UG Alumni Sal Level  \n",
              "0          44.49                H  \n",
              "1          47.92                H  \n",
              "2          49.97                H  \n",
              "3          40.82                H  \n",
              "4          68.40                H  "
            ],
            "text/html": [
              "\n",
              "  <div id=\"df-2e0c611e-7b17-4fe9-9ed4-582b24238dd9\">\n",
              "    <div class=\"colab-df-container\">\n",
              "      <div>\n",
              "<style scoped>\n",
              "    .dataframe tbody tr th:only-of-type {\n",
              "        vertical-align: middle;\n",
              "    }\n",
              "\n",
              "    .dataframe tbody tr th {\n",
              "        vertical-align: top;\n",
              "    }\n",
              "\n",
              "    .dataframe thead th {\n",
              "        text-align: right;\n",
              "    }\n",
              "</style>\n",
              "<table border=\"1\" class=\"dataframe\">\n",
              "  <thead>\n",
              "    <tr style=\"text-align: right;\">\n",
              "      <th></th>\n",
              "      <th>Rank</th>\n",
              "      <th>Name</th>\n",
              "      <th>City</th>\n",
              "      <th>State</th>\n",
              "      <th>Public/Private</th>\n",
              "      <th>Undergraduate Population</th>\n",
              "      <th>Student Population</th>\n",
              "      <th>Net Price</th>\n",
              "      <th>Average Grant Aid</th>\n",
              "      <th>Total Annual Cost</th>\n",
              "      <th>Alumni Salary</th>\n",
              "      <th>Acceptance Rate</th>\n",
              "      <th>Percentage UG</th>\n",
              "      <th>Alumni Sal Level</th>\n",
              "    </tr>\n",
              "  </thead>\n",
              "  <tbody>\n",
              "    <tr>\n",
              "      <th>0</th>\n",
              "      <td>1</td>\n",
              "      <td>Harvard University</td>\n",
              "      <td>Cambridge</td>\n",
              "      <td>MA</td>\n",
              "      <td>Private</td>\n",
              "      <td>13844</td>\n",
              "      <td>31120</td>\n",
              "      <td>14327.0</td>\n",
              "      <td>49870.0</td>\n",
              "      <td>69600</td>\n",
              "      <td>146800.0</td>\n",
              "      <td>5.0</td>\n",
              "      <td>44.49</td>\n",
              "      <td>H</td>\n",
              "    </tr>\n",
              "    <tr>\n",
              "      <th>1</th>\n",
              "      <td>2</td>\n",
              "      <td>Stanford University</td>\n",
              "      <td>Stanford</td>\n",
              "      <td>CA</td>\n",
              "      <td>Private</td>\n",
              "      <td>8402</td>\n",
              "      <td>17534</td>\n",
              "      <td>13261.0</td>\n",
              "      <td>50134.0</td>\n",
              "      <td>69109</td>\n",
              "      <td>145200.0</td>\n",
              "      <td>5.0</td>\n",
              "      <td>47.92</td>\n",
              "      <td>H</td>\n",
              "    </tr>\n",
              "    <tr>\n",
              "      <th>2</th>\n",
              "      <td>3</td>\n",
              "      <td>Yale University</td>\n",
              "      <td>New Haven</td>\n",
              "      <td>CT</td>\n",
              "      <td>Private</td>\n",
              "      <td>6483</td>\n",
              "      <td>12974</td>\n",
              "      <td>18627.0</td>\n",
              "      <td>50897.0</td>\n",
              "      <td>71290</td>\n",
              "      <td>138300.0</td>\n",
              "      <td>7.0</td>\n",
              "      <td>49.97</td>\n",
              "      <td>H</td>\n",
              "    </tr>\n",
              "    <tr>\n",
              "      <th>3</th>\n",
              "      <td>4</td>\n",
              "      <td>Massachusetts Institute of Technology</td>\n",
              "      <td>Cambridge</td>\n",
              "      <td>MA</td>\n",
              "      <td>Private</td>\n",
              "      <td>4680</td>\n",
              "      <td>11466</td>\n",
              "      <td>20771.0</td>\n",
              "      <td>43248.0</td>\n",
              "      <td>67430</td>\n",
              "      <td>155200.0</td>\n",
              "      <td>7.0</td>\n",
              "      <td>40.82</td>\n",
              "      <td>H</td>\n",
              "    </tr>\n",
              "    <tr>\n",
              "      <th>4</th>\n",
              "      <td>5</td>\n",
              "      <td>Princeton University</td>\n",
              "      <td>Princeton</td>\n",
              "      <td>NJ</td>\n",
              "      <td>Private</td>\n",
              "      <td>5659</td>\n",
              "      <td>8273</td>\n",
              "      <td>9327.0</td>\n",
              "      <td>48088.0</td>\n",
              "      <td>66150</td>\n",
              "      <td>139400.0</td>\n",
              "      <td>6.0</td>\n",
              "      <td>68.40</td>\n",
              "      <td>H</td>\n",
              "    </tr>\n",
              "  </tbody>\n",
              "</table>\n",
              "</div>\n",
              "      <button class=\"colab-df-convert\" onclick=\"convertToInteractive('df-2e0c611e-7b17-4fe9-9ed4-582b24238dd9')\"\n",
              "              title=\"Convert this dataframe to an interactive table.\"\n",
              "              style=\"display:none;\">\n",
              "        \n",
              "  <svg xmlns=\"http://www.w3.org/2000/svg\" height=\"24px\"viewBox=\"0 0 24 24\"\n",
              "       width=\"24px\">\n",
              "    <path d=\"M0 0h24v24H0V0z\" fill=\"none\"/>\n",
              "    <path d=\"M18.56 5.44l.94 2.06.94-2.06 2.06-.94-2.06-.94-.94-2.06-.94 2.06-2.06.94zm-11 1L8.5 8.5l.94-2.06 2.06-.94-2.06-.94L8.5 2.5l-.94 2.06-2.06.94zm10 10l.94 2.06.94-2.06 2.06-.94-2.06-.94-.94-2.06-.94 2.06-2.06.94z\"/><path d=\"M17.41 7.96l-1.37-1.37c-.4-.4-.92-.59-1.43-.59-.52 0-1.04.2-1.43.59L10.3 9.45l-7.72 7.72c-.78.78-.78 2.05 0 2.83L4 21.41c.39.39.9.59 1.41.59.51 0 1.02-.2 1.41-.59l7.78-7.78 2.81-2.81c.8-.78.8-2.07 0-2.86zM5.41 20L4 18.59l7.72-7.72 1.47 1.35L5.41 20z\"/>\n",
              "  </svg>\n",
              "      </button>\n",
              "      \n",
              "  <style>\n",
              "    .colab-df-container {\n",
              "      display:flex;\n",
              "      flex-wrap:wrap;\n",
              "      gap: 12px;\n",
              "    }\n",
              "\n",
              "    .colab-df-convert {\n",
              "      background-color: #E8F0FE;\n",
              "      border: none;\n",
              "      border-radius: 50%;\n",
              "      cursor: pointer;\n",
              "      display: none;\n",
              "      fill: #1967D2;\n",
              "      height: 32px;\n",
              "      padding: 0 0 0 0;\n",
              "      width: 32px;\n",
              "    }\n",
              "\n",
              "    .colab-df-convert:hover {\n",
              "      background-color: #E2EBFA;\n",
              "      box-shadow: 0px 1px 2px rgba(60, 64, 67, 0.3), 0px 1px 3px 1px rgba(60, 64, 67, 0.15);\n",
              "      fill: #174EA6;\n",
              "    }\n",
              "\n",
              "    [theme=dark] .colab-df-convert {\n",
              "      background-color: #3B4455;\n",
              "      fill: #D2E3FC;\n",
              "    }\n",
              "\n",
              "    [theme=dark] .colab-df-convert:hover {\n",
              "      background-color: #434B5C;\n",
              "      box-shadow: 0px 1px 3px 1px rgba(0, 0, 0, 0.15);\n",
              "      filter: drop-shadow(0px 1px 2px rgba(0, 0, 0, 0.3));\n",
              "      fill: #FFFFFF;\n",
              "    }\n",
              "  </style>\n",
              "\n",
              "      <script>\n",
              "        const buttonEl =\n",
              "          document.querySelector('#df-2e0c611e-7b17-4fe9-9ed4-582b24238dd9 button.colab-df-convert');\n",
              "        buttonEl.style.display =\n",
              "          google.colab.kernel.accessAllowed ? 'block' : 'none';\n",
              "\n",
              "        async function convertToInteractive(key) {\n",
              "          const element = document.querySelector('#df-2e0c611e-7b17-4fe9-9ed4-582b24238dd9');\n",
              "          const dataTable =\n",
              "            await google.colab.kernel.invokeFunction('convertToInteractive',\n",
              "                                                     [key], {});\n",
              "          if (!dataTable) return;\n",
              "\n",
              "          const docLinkHtml = 'Like what you see? Visit the ' +\n",
              "            '<a target=\"_blank\" href=https://colab.research.google.com/notebooks/data_table.ipynb>data table notebook</a>'\n",
              "            + ' to learn more about interactive tables.';\n",
              "          element.innerHTML = '';\n",
              "          dataTable['output_type'] = 'display_data';\n",
              "          await google.colab.output.renderOutput(dataTable, element);\n",
              "          const docLink = document.createElement('div');\n",
              "          docLink.innerHTML = docLinkHtml;\n",
              "          element.appendChild(docLink);\n",
              "        }\n",
              "      </script>\n",
              "    </div>\n",
              "  </div>\n",
              "  "
            ]
          },
          "metadata": {},
          "execution_count": 33
        }
      ],
      "source": [
        "df_college_new.head()\n"
      ]
    },
    {
      "cell_type": "code",
      "execution_count": 34,
      "metadata": {
        "colab": {
          "base_uri": "https://localhost:8080/"
        },
        "id": "Aa2Awqd7tgmd",
        "outputId": "987a518f-048f-4e98-d8e2-85a78558b96a"
      },
      "outputs": [
        {
          "output_type": "execute_result",
          "data": {
            "text/plain": [
              "L    383\n",
              "M    217\n",
              "H     28\n",
              "Name: Alumni Sal Level, dtype: int64"
            ]
          },
          "metadata": {},
          "execution_count": 34
        }
      ],
      "source": [
        "df_college_new['Alumni Sal Level'].value_counts()"
      ]
    },
    {
      "cell_type": "markdown",
      "metadata": {
        "id": "2YP9YcPwtgmd"
      },
      "source": [
        "Note:\n",
        "There are only 28 colleges in the High Alumni Salary Range"
      ]
    },
    {
      "cell_type": "markdown",
      "metadata": {
        "id": "GePZYooGtgmd"
      },
      "source": [
        "### 13) Let's check the mean Alumni Salary at each level"
      ]
    },
    {
      "cell_type": "code",
      "execution_count": 35,
      "metadata": {
        "colab": {
          "base_uri": "https://localhost:8080/"
        },
        "id": "Mo3yAIFitgmd",
        "outputId": "6ae3fe58-7198-425d-8855-9a7ed0cd7eb1"
      },
      "outputs": [
        {
          "output_type": "execute_result",
          "data": {
            "text/plain": [
              "Alumni Sal Level\n",
              "L     89835.77\n",
              "M    109086.64\n",
              "H    137575.00\n",
              "Name: Alumni Salary, dtype: float64"
            ]
          },
          "metadata": {},
          "execution_count": 35
        }
      ],
      "source": [
        "round(df_college_new.groupby('Alumni Sal Level')['Alumni Salary'].mean(),2)"
      ]
    },
    {
      "cell_type": "markdown",
      "metadata": {
        "id": "3twplwj1tgmd"
      },
      "source": [
        "### 14) Let's create a new dataframe to further analyze the 28 colleges with High Alumni Salary "
      ]
    },
    {
      "cell_type": "code",
      "execution_count": 36,
      "metadata": {
        "id": "oblq2Umotgmd"
      },
      "outputs": [],
      "source": [
        "df_high_alumnisal = df_college_new[df_college_new['Alumni Sal Level'] == 'H']"
      ]
    },
    {
      "cell_type": "markdown",
      "metadata": {
        "id": "jR6Z14Omtgmd"
      },
      "source": [
        "'T' property transposes the table which helps in reviewing the statistics per column"
      ]
    },
    {
      "cell_type": "code",
      "execution_count": 37,
      "metadata": {
        "colab": {
          "base_uri": "https://localhost:8080/",
          "height": 488
        },
        "id": "kJSjcjnRtgmd",
        "outputId": "5279553d-8e00-467d-961a-68bd7aea27dc"
      },
      "outputs": [
        {
          "output_type": "execute_result",
          "data": {
            "text/plain": [
              "                         count unique                 top freq          mean  \\\n",
              "Rank                      28.0    NaN                 NaN  NaN     68.857143   \n",
              "Name                        28     28  Harvard University    1           NaN   \n",
              "City                        28     27           Cambridge    2           NaN   \n",
              "State                       28     12                  CA    6           NaN   \n",
              "Public/Private              28      2             Private   22           NaN   \n",
              "Undergraduate Population  28.0    NaN                 NaN  NaN   6389.535714   \n",
              "Student Population        28.0    NaN                 NaN  NaN  10603.321429   \n",
              "Net Price                 28.0    NaN                 NaN  NaN  25288.571429   \n",
              "Average Grant Aid         28.0    NaN                 NaN  NaN  32340.535714   \n",
              "Total Annual Cost         28.0    NaN                 NaN  NaN  62952.464286   \n",
              "Alumni Salary             28.0    NaN                 NaN  NaN      137575.0   \n",
              "Acceptance Rate           28.0    NaN                 NaN  NaN     28.035714   \n",
              "Percentage UG             28.0    NaN                 NaN  NaN     68.703929   \n",
              "Alumni Sal Level            28      1                   H   28           NaN   \n",
              "\n",
              "                                   std       min       25%       50%  \\\n",
              "Rank                         87.500144       1.0      8.75      41.5   \n",
              "Name                               NaN       NaN       NaN       NaN   \n",
              "City                               NaN       NaN       NaN       NaN   \n",
              "State                              NaN       NaN       NaN       NaN   \n",
              "Public/Private                     NaN       NaN       NaN       NaN   \n",
              "Undergraduate Population   6290.912467     847.0    2759.0    4752.0   \n",
              "Student Population        10225.926422     861.0    3253.0    7019.5   \n",
              "Net Price                  9526.081595    6758.0  17913.75   24977.5   \n",
              "Average Grant Aid         14681.882361    3597.0   20604.0   36200.5   \n",
              "Total Annual Cost         14203.545967    8646.0   65024.0   67931.0   \n",
              "Alumni Salary              7667.566372  129500.0  132025.0  135100.0   \n",
              "Acceptance Rate              21.489846       5.0      9.75      22.0   \n",
              "Percentage UG                  19.0947     40.82     50.03    69.785   \n",
              "Alumni Sal Level                   NaN       NaN       NaN       NaN   \n",
              "\n",
              "                               75%       max  \n",
              "Rank                         93.25     333.0  \n",
              "Name                           NaN       NaN  \n",
              "City                           NaN       NaN  \n",
              "State                          NaN       NaN  \n",
              "Public/Private                 NaN       NaN  \n",
              "Undergraduate Population   7001.75   31133.0  \n",
              "Student Population        13197.75   41891.0  \n",
              "Net Price                  34275.0   40376.0  \n",
              "Average Grant Aid         44877.75   50897.0  \n",
              "Total Annual Cost          69918.5   74428.0  \n",
              "Alumni Salary             140100.0  158200.0  \n",
              "Acceptance Rate               45.0      69.0  \n",
              "Percentage UG              80.0725      99.6  \n",
              "Alumni Sal Level               NaN       NaN  "
            ],
            "text/html": [
              "\n",
              "  <div id=\"df-81901e10-c838-4d7e-a5fc-1e6e63ea868a\">\n",
              "    <div class=\"colab-df-container\">\n",
              "      <div>\n",
              "<style scoped>\n",
              "    .dataframe tbody tr th:only-of-type {\n",
              "        vertical-align: middle;\n",
              "    }\n",
              "\n",
              "    .dataframe tbody tr th {\n",
              "        vertical-align: top;\n",
              "    }\n",
              "\n",
              "    .dataframe thead th {\n",
              "        text-align: right;\n",
              "    }\n",
              "</style>\n",
              "<table border=\"1\" class=\"dataframe\">\n",
              "  <thead>\n",
              "    <tr style=\"text-align: right;\">\n",
              "      <th></th>\n",
              "      <th>count</th>\n",
              "      <th>unique</th>\n",
              "      <th>top</th>\n",
              "      <th>freq</th>\n",
              "      <th>mean</th>\n",
              "      <th>std</th>\n",
              "      <th>min</th>\n",
              "      <th>25%</th>\n",
              "      <th>50%</th>\n",
              "      <th>75%</th>\n",
              "      <th>max</th>\n",
              "    </tr>\n",
              "  </thead>\n",
              "  <tbody>\n",
              "    <tr>\n",
              "      <th>Rank</th>\n",
              "      <td>28.0</td>\n",
              "      <td>NaN</td>\n",
              "      <td>NaN</td>\n",
              "      <td>NaN</td>\n",
              "      <td>68.857143</td>\n",
              "      <td>87.500144</td>\n",
              "      <td>1.0</td>\n",
              "      <td>8.75</td>\n",
              "      <td>41.5</td>\n",
              "      <td>93.25</td>\n",
              "      <td>333.0</td>\n",
              "    </tr>\n",
              "    <tr>\n",
              "      <th>Name</th>\n",
              "      <td>28</td>\n",
              "      <td>28</td>\n",
              "      <td>Harvard University</td>\n",
              "      <td>1</td>\n",
              "      <td>NaN</td>\n",
              "      <td>NaN</td>\n",
              "      <td>NaN</td>\n",
              "      <td>NaN</td>\n",
              "      <td>NaN</td>\n",
              "      <td>NaN</td>\n",
              "      <td>NaN</td>\n",
              "    </tr>\n",
              "    <tr>\n",
              "      <th>City</th>\n",
              "      <td>28</td>\n",
              "      <td>27</td>\n",
              "      <td>Cambridge</td>\n",
              "      <td>2</td>\n",
              "      <td>NaN</td>\n",
              "      <td>NaN</td>\n",
              "      <td>NaN</td>\n",
              "      <td>NaN</td>\n",
              "      <td>NaN</td>\n",
              "      <td>NaN</td>\n",
              "      <td>NaN</td>\n",
              "    </tr>\n",
              "    <tr>\n",
              "      <th>State</th>\n",
              "      <td>28</td>\n",
              "      <td>12</td>\n",
              "      <td>CA</td>\n",
              "      <td>6</td>\n",
              "      <td>NaN</td>\n",
              "      <td>NaN</td>\n",
              "      <td>NaN</td>\n",
              "      <td>NaN</td>\n",
              "      <td>NaN</td>\n",
              "      <td>NaN</td>\n",
              "      <td>NaN</td>\n",
              "    </tr>\n",
              "    <tr>\n",
              "      <th>Public/Private</th>\n",
              "      <td>28</td>\n",
              "      <td>2</td>\n",
              "      <td>Private</td>\n",
              "      <td>22</td>\n",
              "      <td>NaN</td>\n",
              "      <td>NaN</td>\n",
              "      <td>NaN</td>\n",
              "      <td>NaN</td>\n",
              "      <td>NaN</td>\n",
              "      <td>NaN</td>\n",
              "      <td>NaN</td>\n",
              "    </tr>\n",
              "    <tr>\n",
              "      <th>Undergraduate Population</th>\n",
              "      <td>28.0</td>\n",
              "      <td>NaN</td>\n",
              "      <td>NaN</td>\n",
              "      <td>NaN</td>\n",
              "      <td>6389.535714</td>\n",
              "      <td>6290.912467</td>\n",
              "      <td>847.0</td>\n",
              "      <td>2759.0</td>\n",
              "      <td>4752.0</td>\n",
              "      <td>7001.75</td>\n",
              "      <td>31133.0</td>\n",
              "    </tr>\n",
              "    <tr>\n",
              "      <th>Student Population</th>\n",
              "      <td>28.0</td>\n",
              "      <td>NaN</td>\n",
              "      <td>NaN</td>\n",
              "      <td>NaN</td>\n",
              "      <td>10603.321429</td>\n",
              "      <td>10225.926422</td>\n",
              "      <td>861.0</td>\n",
              "      <td>3253.0</td>\n",
              "      <td>7019.5</td>\n",
              "      <td>13197.75</td>\n",
              "      <td>41891.0</td>\n",
              "    </tr>\n",
              "    <tr>\n",
              "      <th>Net Price</th>\n",
              "      <td>28.0</td>\n",
              "      <td>NaN</td>\n",
              "      <td>NaN</td>\n",
              "      <td>NaN</td>\n",
              "      <td>25288.571429</td>\n",
              "      <td>9526.081595</td>\n",
              "      <td>6758.0</td>\n",
              "      <td>17913.75</td>\n",
              "      <td>24977.5</td>\n",
              "      <td>34275.0</td>\n",
              "      <td>40376.0</td>\n",
              "    </tr>\n",
              "    <tr>\n",
              "      <th>Average Grant Aid</th>\n",
              "      <td>28.0</td>\n",
              "      <td>NaN</td>\n",
              "      <td>NaN</td>\n",
              "      <td>NaN</td>\n",
              "      <td>32340.535714</td>\n",
              "      <td>14681.882361</td>\n",
              "      <td>3597.0</td>\n",
              "      <td>20604.0</td>\n",
              "      <td>36200.5</td>\n",
              "      <td>44877.75</td>\n",
              "      <td>50897.0</td>\n",
              "    </tr>\n",
              "    <tr>\n",
              "      <th>Total Annual Cost</th>\n",
              "      <td>28.0</td>\n",
              "      <td>NaN</td>\n",
              "      <td>NaN</td>\n",
              "      <td>NaN</td>\n",
              "      <td>62952.464286</td>\n",
              "      <td>14203.545967</td>\n",
              "      <td>8646.0</td>\n",
              "      <td>65024.0</td>\n",
              "      <td>67931.0</td>\n",
              "      <td>69918.5</td>\n",
              "      <td>74428.0</td>\n",
              "    </tr>\n",
              "    <tr>\n",
              "      <th>Alumni Salary</th>\n",
              "      <td>28.0</td>\n",
              "      <td>NaN</td>\n",
              "      <td>NaN</td>\n",
              "      <td>NaN</td>\n",
              "      <td>137575.0</td>\n",
              "      <td>7667.566372</td>\n",
              "      <td>129500.0</td>\n",
              "      <td>132025.0</td>\n",
              "      <td>135100.0</td>\n",
              "      <td>140100.0</td>\n",
              "      <td>158200.0</td>\n",
              "    </tr>\n",
              "    <tr>\n",
              "      <th>Acceptance Rate</th>\n",
              "      <td>28.0</td>\n",
              "      <td>NaN</td>\n",
              "      <td>NaN</td>\n",
              "      <td>NaN</td>\n",
              "      <td>28.035714</td>\n",
              "      <td>21.489846</td>\n",
              "      <td>5.0</td>\n",
              "      <td>9.75</td>\n",
              "      <td>22.0</td>\n",
              "      <td>45.0</td>\n",
              "      <td>69.0</td>\n",
              "    </tr>\n",
              "    <tr>\n",
              "      <th>Percentage UG</th>\n",
              "      <td>28.0</td>\n",
              "      <td>NaN</td>\n",
              "      <td>NaN</td>\n",
              "      <td>NaN</td>\n",
              "      <td>68.703929</td>\n",
              "      <td>19.0947</td>\n",
              "      <td>40.82</td>\n",
              "      <td>50.03</td>\n",
              "      <td>69.785</td>\n",
              "      <td>80.0725</td>\n",
              "      <td>99.6</td>\n",
              "    </tr>\n",
              "    <tr>\n",
              "      <th>Alumni Sal Level</th>\n",
              "      <td>28</td>\n",
              "      <td>1</td>\n",
              "      <td>H</td>\n",
              "      <td>28</td>\n",
              "      <td>NaN</td>\n",
              "      <td>NaN</td>\n",
              "      <td>NaN</td>\n",
              "      <td>NaN</td>\n",
              "      <td>NaN</td>\n",
              "      <td>NaN</td>\n",
              "      <td>NaN</td>\n",
              "    </tr>\n",
              "  </tbody>\n",
              "</table>\n",
              "</div>\n",
              "      <button class=\"colab-df-convert\" onclick=\"convertToInteractive('df-81901e10-c838-4d7e-a5fc-1e6e63ea868a')\"\n",
              "              title=\"Convert this dataframe to an interactive table.\"\n",
              "              style=\"display:none;\">\n",
              "        \n",
              "  <svg xmlns=\"http://www.w3.org/2000/svg\" height=\"24px\"viewBox=\"0 0 24 24\"\n",
              "       width=\"24px\">\n",
              "    <path d=\"M0 0h24v24H0V0z\" fill=\"none\"/>\n",
              "    <path d=\"M18.56 5.44l.94 2.06.94-2.06 2.06-.94-2.06-.94-.94-2.06-.94 2.06-2.06.94zm-11 1L8.5 8.5l.94-2.06 2.06-.94-2.06-.94L8.5 2.5l-.94 2.06-2.06.94zm10 10l.94 2.06.94-2.06 2.06-.94-2.06-.94-.94-2.06-.94 2.06-2.06.94z\"/><path d=\"M17.41 7.96l-1.37-1.37c-.4-.4-.92-.59-1.43-.59-.52 0-1.04.2-1.43.59L10.3 9.45l-7.72 7.72c-.78.78-.78 2.05 0 2.83L4 21.41c.39.39.9.59 1.41.59.51 0 1.02-.2 1.41-.59l7.78-7.78 2.81-2.81c.8-.78.8-2.07 0-2.86zM5.41 20L4 18.59l7.72-7.72 1.47 1.35L5.41 20z\"/>\n",
              "  </svg>\n",
              "      </button>\n",
              "      \n",
              "  <style>\n",
              "    .colab-df-container {\n",
              "      display:flex;\n",
              "      flex-wrap:wrap;\n",
              "      gap: 12px;\n",
              "    }\n",
              "\n",
              "    .colab-df-convert {\n",
              "      background-color: #E8F0FE;\n",
              "      border: none;\n",
              "      border-radius: 50%;\n",
              "      cursor: pointer;\n",
              "      display: none;\n",
              "      fill: #1967D2;\n",
              "      height: 32px;\n",
              "      padding: 0 0 0 0;\n",
              "      width: 32px;\n",
              "    }\n",
              "\n",
              "    .colab-df-convert:hover {\n",
              "      background-color: #E2EBFA;\n",
              "      box-shadow: 0px 1px 2px rgba(60, 64, 67, 0.3), 0px 1px 3px 1px rgba(60, 64, 67, 0.15);\n",
              "      fill: #174EA6;\n",
              "    }\n",
              "\n",
              "    [theme=dark] .colab-df-convert {\n",
              "      background-color: #3B4455;\n",
              "      fill: #D2E3FC;\n",
              "    }\n",
              "\n",
              "    [theme=dark] .colab-df-convert:hover {\n",
              "      background-color: #434B5C;\n",
              "      box-shadow: 0px 1px 3px 1px rgba(0, 0, 0, 0.15);\n",
              "      filter: drop-shadow(0px 1px 2px rgba(0, 0, 0, 0.3));\n",
              "      fill: #FFFFFF;\n",
              "    }\n",
              "  </style>\n",
              "\n",
              "      <script>\n",
              "        const buttonEl =\n",
              "          document.querySelector('#df-81901e10-c838-4d7e-a5fc-1e6e63ea868a button.colab-df-convert');\n",
              "        buttonEl.style.display =\n",
              "          google.colab.kernel.accessAllowed ? 'block' : 'none';\n",
              "\n",
              "        async function convertToInteractive(key) {\n",
              "          const element = document.querySelector('#df-81901e10-c838-4d7e-a5fc-1e6e63ea868a');\n",
              "          const dataTable =\n",
              "            await google.colab.kernel.invokeFunction('convertToInteractive',\n",
              "                                                     [key], {});\n",
              "          if (!dataTable) return;\n",
              "\n",
              "          const docLinkHtml = 'Like what you see? Visit the ' +\n",
              "            '<a target=\"_blank\" href=https://colab.research.google.com/notebooks/data_table.ipynb>data table notebook</a>'\n",
              "            + ' to learn more about interactive tables.';\n",
              "          element.innerHTML = '';\n",
              "          dataTable['output_type'] = 'display_data';\n",
              "          await google.colab.output.renderOutput(dataTable, element);\n",
              "          const docLink = document.createElement('div');\n",
              "          docLink.innerHTML = docLinkHtml;\n",
              "          element.appendChild(docLink);\n",
              "        }\n",
              "      </script>\n",
              "    </div>\n",
              "  </div>\n",
              "  "
            ]
          },
          "metadata": {},
          "execution_count": 37
        }
      ],
      "source": [
        "df_high_alumnisal.describe(include='all').T"
      ]
    },
    {
      "cell_type": "markdown",
      "metadata": {
        "id": "qr6fnwantgme"
      },
      "source": [
        "Observations:\n",
        "\n",
        "Out of the 28 shortlisted colleges 22 are private colleges\n",
        "\n",
        "'CA' is the State which has higest number of these colleges\n",
        "\n",
        "'Net Price' of these colleges ranges from minimum of 6758 to maximum of 40376\n",
        "\n",
        "Average 'Acceptance Rate' of these colleges is 28.04\n"
      ]
    },
    {
      "cell_type": "markdown",
      "metadata": {
        "id": "p0XOVKsXtgme"
      },
      "source": [
        "**Find** **which colleges are affordable\n",
        ".**\n",
        "\n",
        "---\n",
        "\n"
      ]
    },
    {
      "cell_type": "code",
      "source": [
        "df_af=df_college.sort_values(by='Net Price',ascending = False).head()\n",
        "df_af.set_index('Rank')\n",
        "df_af.sort_index()"
      ],
      "metadata": {
        "colab": {
          "base_uri": "https://localhost:8080/",
          "height": 389
        },
        "id": "Srn8qakgjaU1",
        "outputId": "4b29c609-1ab6-44ec-916f-f5efdaf8a545"
      },
      "execution_count": 50,
      "outputs": [
        {
          "output_type": "execute_result",
          "data": {
            "text/plain": [
              "     Rank                              Name           City State  \\\n",
              "107   112     Rhode Island School of Design     Providence    RI   \n",
              "215   222                   Emerson College         Boston    MA   \n",
              "320   328                   Pratt Institute       Brooklyn    NY   \n",
              "393   402  California Institute of the Arts  Santa Clarita    CA   \n",
              "395   404          Berklee College of Music         Boston    MA   \n",
              "\n",
              "    Public/Private  Undergraduate Population  Student Population  Net Price  \\\n",
              "107        Private                      2030                2440    46277.0   \n",
              "215        Private                      4088                4459    43965.0   \n",
              "320        Private                      4050                5035    43969.0   \n",
              "393        Private                       991                1498    46101.0   \n",
              "395        Private                      6762                6952    47270.0   \n",
              "\n",
              "     Average Grant Aid  Total Annual Cost  Alumni Salary  Acceptance Rate  \\\n",
              "107            26169.0              67620       100600.0             32.0   \n",
              "215            20323.0              65324        94300.0             46.0   \n",
              "320            20362.0              65308       102300.0             57.0   \n",
              "393            15401.0              68993        91000.0             24.0   \n",
              "395            19811.0              63574        84200.0             53.0   \n",
              "\n",
              "     Percentage UG  \n",
              "107          83.20  \n",
              "215          91.68  \n",
              "320          80.44  \n",
              "393          66.15  \n",
              "395          97.27  "
            ],
            "text/html": [
              "\n",
              "  <div id=\"df-993bc13c-e246-431c-86db-f22f2ab50632\">\n",
              "    <div class=\"colab-df-container\">\n",
              "      <div>\n",
              "<style scoped>\n",
              "    .dataframe tbody tr th:only-of-type {\n",
              "        vertical-align: middle;\n",
              "    }\n",
              "\n",
              "    .dataframe tbody tr th {\n",
              "        vertical-align: top;\n",
              "    }\n",
              "\n",
              "    .dataframe thead th {\n",
              "        text-align: right;\n",
              "    }\n",
              "</style>\n",
              "<table border=\"1\" class=\"dataframe\">\n",
              "  <thead>\n",
              "    <tr style=\"text-align: right;\">\n",
              "      <th></th>\n",
              "      <th>Rank</th>\n",
              "      <th>Name</th>\n",
              "      <th>City</th>\n",
              "      <th>State</th>\n",
              "      <th>Public/Private</th>\n",
              "      <th>Undergraduate Population</th>\n",
              "      <th>Student Population</th>\n",
              "      <th>Net Price</th>\n",
              "      <th>Average Grant Aid</th>\n",
              "      <th>Total Annual Cost</th>\n",
              "      <th>Alumni Salary</th>\n",
              "      <th>Acceptance Rate</th>\n",
              "      <th>Percentage UG</th>\n",
              "    </tr>\n",
              "  </thead>\n",
              "  <tbody>\n",
              "    <tr>\n",
              "      <th>107</th>\n",
              "      <td>112</td>\n",
              "      <td>Rhode Island School of Design</td>\n",
              "      <td>Providence</td>\n",
              "      <td>RI</td>\n",
              "      <td>Private</td>\n",
              "      <td>2030</td>\n",
              "      <td>2440</td>\n",
              "      <td>46277.0</td>\n",
              "      <td>26169.0</td>\n",
              "      <td>67620</td>\n",
              "      <td>100600.0</td>\n",
              "      <td>32.0</td>\n",
              "      <td>83.20</td>\n",
              "    </tr>\n",
              "    <tr>\n",
              "      <th>215</th>\n",
              "      <td>222</td>\n",
              "      <td>Emerson College</td>\n",
              "      <td>Boston</td>\n",
              "      <td>MA</td>\n",
              "      <td>Private</td>\n",
              "      <td>4088</td>\n",
              "      <td>4459</td>\n",
              "      <td>43965.0</td>\n",
              "      <td>20323.0</td>\n",
              "      <td>65324</td>\n",
              "      <td>94300.0</td>\n",
              "      <td>46.0</td>\n",
              "      <td>91.68</td>\n",
              "    </tr>\n",
              "    <tr>\n",
              "      <th>320</th>\n",
              "      <td>328</td>\n",
              "      <td>Pratt Institute</td>\n",
              "      <td>Brooklyn</td>\n",
              "      <td>NY</td>\n",
              "      <td>Private</td>\n",
              "      <td>4050</td>\n",
              "      <td>5035</td>\n",
              "      <td>43969.0</td>\n",
              "      <td>20362.0</td>\n",
              "      <td>65308</td>\n",
              "      <td>102300.0</td>\n",
              "      <td>57.0</td>\n",
              "      <td>80.44</td>\n",
              "    </tr>\n",
              "    <tr>\n",
              "      <th>393</th>\n",
              "      <td>402</td>\n",
              "      <td>California Institute of the Arts</td>\n",
              "      <td>Santa Clarita</td>\n",
              "      <td>CA</td>\n",
              "      <td>Private</td>\n",
              "      <td>991</td>\n",
              "      <td>1498</td>\n",
              "      <td>46101.0</td>\n",
              "      <td>15401.0</td>\n",
              "      <td>68993</td>\n",
              "      <td>91000.0</td>\n",
              "      <td>24.0</td>\n",
              "      <td>66.15</td>\n",
              "    </tr>\n",
              "    <tr>\n",
              "      <th>395</th>\n",
              "      <td>404</td>\n",
              "      <td>Berklee College of Music</td>\n",
              "      <td>Boston</td>\n",
              "      <td>MA</td>\n",
              "      <td>Private</td>\n",
              "      <td>6762</td>\n",
              "      <td>6952</td>\n",
              "      <td>47270.0</td>\n",
              "      <td>19811.0</td>\n",
              "      <td>63574</td>\n",
              "      <td>84200.0</td>\n",
              "      <td>53.0</td>\n",
              "      <td>97.27</td>\n",
              "    </tr>\n",
              "  </tbody>\n",
              "</table>\n",
              "</div>\n",
              "      <button class=\"colab-df-convert\" onclick=\"convertToInteractive('df-993bc13c-e246-431c-86db-f22f2ab50632')\"\n",
              "              title=\"Convert this dataframe to an interactive table.\"\n",
              "              style=\"display:none;\">\n",
              "        \n",
              "  <svg xmlns=\"http://www.w3.org/2000/svg\" height=\"24px\"viewBox=\"0 0 24 24\"\n",
              "       width=\"24px\">\n",
              "    <path d=\"M0 0h24v24H0V0z\" fill=\"none\"/>\n",
              "    <path d=\"M18.56 5.44l.94 2.06.94-2.06 2.06-.94-2.06-.94-.94-2.06-.94 2.06-2.06.94zm-11 1L8.5 8.5l.94-2.06 2.06-.94-2.06-.94L8.5 2.5l-.94 2.06-2.06.94zm10 10l.94 2.06.94-2.06 2.06-.94-2.06-.94-.94-2.06-.94 2.06-2.06.94z\"/><path d=\"M17.41 7.96l-1.37-1.37c-.4-.4-.92-.59-1.43-.59-.52 0-1.04.2-1.43.59L10.3 9.45l-7.72 7.72c-.78.78-.78 2.05 0 2.83L4 21.41c.39.39.9.59 1.41.59.51 0 1.02-.2 1.41-.59l7.78-7.78 2.81-2.81c.8-.78.8-2.07 0-2.86zM5.41 20L4 18.59l7.72-7.72 1.47 1.35L5.41 20z\"/>\n",
              "  </svg>\n",
              "      </button>\n",
              "      \n",
              "  <style>\n",
              "    .colab-df-container {\n",
              "      display:flex;\n",
              "      flex-wrap:wrap;\n",
              "      gap: 12px;\n",
              "    }\n",
              "\n",
              "    .colab-df-convert {\n",
              "      background-color: #E8F0FE;\n",
              "      border: none;\n",
              "      border-radius: 50%;\n",
              "      cursor: pointer;\n",
              "      display: none;\n",
              "      fill: #1967D2;\n",
              "      height: 32px;\n",
              "      padding: 0 0 0 0;\n",
              "      width: 32px;\n",
              "    }\n",
              "\n",
              "    .colab-df-convert:hover {\n",
              "      background-color: #E2EBFA;\n",
              "      box-shadow: 0px 1px 2px rgba(60, 64, 67, 0.3), 0px 1px 3px 1px rgba(60, 64, 67, 0.15);\n",
              "      fill: #174EA6;\n",
              "    }\n",
              "\n",
              "    [theme=dark] .colab-df-convert {\n",
              "      background-color: #3B4455;\n",
              "      fill: #D2E3FC;\n",
              "    }\n",
              "\n",
              "    [theme=dark] .colab-df-convert:hover {\n",
              "      background-color: #434B5C;\n",
              "      box-shadow: 0px 1px 3px 1px rgba(0, 0, 0, 0.15);\n",
              "      filter: drop-shadow(0px 1px 2px rgba(0, 0, 0, 0.3));\n",
              "      fill: #FFFFFF;\n",
              "    }\n",
              "  </style>\n",
              "\n",
              "      <script>\n",
              "        const buttonEl =\n",
              "          document.querySelector('#df-993bc13c-e246-431c-86db-f22f2ab50632 button.colab-df-convert');\n",
              "        buttonEl.style.display =\n",
              "          google.colab.kernel.accessAllowed ? 'block' : 'none';\n",
              "\n",
              "        async function convertToInteractive(key) {\n",
              "          const element = document.querySelector('#df-993bc13c-e246-431c-86db-f22f2ab50632');\n",
              "          const dataTable =\n",
              "            await google.colab.kernel.invokeFunction('convertToInteractive',\n",
              "                                                     [key], {});\n",
              "          if (!dataTable) return;\n",
              "\n",
              "          const docLinkHtml = 'Like what you see? Visit the ' +\n",
              "            '<a target=\"_blank\" href=https://colab.research.google.com/notebooks/data_table.ipynb>data table notebook</a>'\n",
              "            + ' to learn more about interactive tables.';\n",
              "          element.innerHTML = '';\n",
              "          dataTable['output_type'] = 'display_data';\n",
              "          await google.colab.output.renderOutput(dataTable, element);\n",
              "          const docLink = document.createElement('div');\n",
              "          docLink.innerHTML = docLinkHtml;\n",
              "          element.appendChild(docLink);\n",
              "        }\n",
              "      </script>\n",
              "    </div>\n",
              "  </div>\n",
              "  "
            ]
          },
          "metadata": {},
          "execution_count": 50
        }
      ]
    },
    {
      "cell_type": "markdown",
      "source": [
        "Observations:\n",
        "\n",
        "Rhode Island School Of design is most affordable also its rank is 112 which is good enough for a design college\n",
        "\n",
        "It avg net price is 46277 and also provide grant aid of 26169 .\n",
        "\n",
        "So for students who are finding affordable college in design Rhode Island School Of design should be recommended.\n",
        "\n"
      ],
      "metadata": {
        "id": "qLb9sFhWKDRu"
      }
    }
  ],
  "metadata": {
    "colab": {
      "provenance": [],
      "include_colab_link": true
    },
    "kernelspec": {
      "display_name": "Python 3 (ipykernel)",
      "language": "python",
      "name": "python3"
    },
    "language_info": {
      "codemirror_mode": {
        "name": "ipython",
        "version": 3
      },
      "file_extension": ".py",
      "mimetype": "text/x-python",
      "name": "python",
      "nbconvert_exporter": "python",
      "pygments_lexer": "ipython3",
      "version": "3.10.6"
    }
  },
  "nbformat": 4,
  "nbformat_minor": 0
}